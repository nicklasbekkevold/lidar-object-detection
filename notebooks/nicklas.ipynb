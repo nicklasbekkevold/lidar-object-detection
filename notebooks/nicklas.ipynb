{
 "cells": [
  {
   "cell_type": "markdown",
   "metadata": {},
   "source": [
    "# Import and install requirements"
   ]
  },
  {
   "cell_type": "code",
   "execution_count": 1,
   "metadata": {},
   "outputs": [
    {
     "name": "stderr",
     "output_type": "stream",
     "text": [
      "YOLOv5 🚀 v6.0-96-g8df64a9 torch 1.10.0+cu102 CPU\n"
     ]
    },
    {
     "name": "stdout",
     "output_type": "stream",
     "text": [
      "Setup complete ✅\n"
     ]
    }
   ],
   "source": [
    "!git clone https://github.com/ultralytics/yolov5  # clone\n",
    "%cd yolov5\n",
    "%pip install -qr requirements.txt  # install\n",
    "\n",
    "from yolov5 import utils\n",
    "display = utils.notebook_init()  # checks"
   ]
  },
  {
   "cell_type": "markdown",
   "metadata": {},
   "source": [
    "## Folder shortcuts"
   ]
  },
  {
   "cell_type": "code",
   "execution_count": 2,
   "metadata": {},
   "outputs": [],
   "source": [
    "data_folder = '../../data'\n",
    "videos_folder = '../../videos'"
   ]
  },
  {
   "cell_type": "markdown",
   "metadata": {},
   "source": [
    "## Tooling setup"
   ]
  },
  {
   "cell_type": "code",
   "execution_count": 3,
   "metadata": {},
   "outputs": [
    {
     "data": {
      "text/plain": [
       "Reusing TensorBoard on port 6007 (pid 25349), started 0:39:09 ago. (Use '!kill 25349' to kill it.)"
      ]
     },
     "metadata": {},
     "output_type": "display_data"
    },
    {
     "data": {
      "text/html": [
       "\n",
       "      <iframe id=\"tensorboard-frame-8b66fe2187885649\" width=\"100%\" height=\"800\" frameborder=\"0\">\n",
       "      </iframe>\n",
       "      <script>\n",
       "        (function() {\n",
       "          const frame = document.getElementById(\"tensorboard-frame-8b66fe2187885649\");\n",
       "          const url = new URL(\"http://localhost\");\n",
       "          const port = 6007;\n",
       "          if (port) {\n",
       "            url.port = port;\n",
       "          }\n",
       "          frame.src = url;\n",
       "        })();\n",
       "      </script>\n",
       "    "
      ],
      "text/plain": [
       "<IPython.core.display.HTML object>"
      ]
     },
     "metadata": {},
     "output_type": "display_data"
    }
   ],
   "source": [
    "# Tensorboard\n",
    "%load_ext tensorboard\n",
    "%tensorboard --logdir runs/train"
   ]
  },
  {
   "cell_type": "markdown",
   "metadata": {},
   "source": [
    "# Training"
   ]
  },
  {
   "cell_type": "code",
   "execution_count": 14,
   "metadata": {},
   "outputs": [
    {
     "name": "stdout",
     "output_type": "stream",
     "text": [
      "usage: train.py [-h] [--weights WEIGHTS] [--cfg CFG] [--data DATA] [--hyp HYP]\n",
      "                [--epochs EPOCHS] [--batch-size BATCH_SIZE] [--imgsz IMGSZ]\n",
      "                [--rect] [--resume [RESUME]] [--nosave] [--noval]\n",
      "                [--noautoanchor] [--evolve [EVOLVE]] [--bucket BUCKET]\n",
      "                [--cache [CACHE]] [--image-weights] [--device DEVICE]\n",
      "                [--multi-scale] [--single-cls] [--adam] [--sync-bn]\n",
      "                [--workers WORKERS] [--project PROJECT] [--name NAME]\n",
      "                [--exist-ok] [--quad] [--linear-lr]\n",
      "                [--label-smoothing LABEL_SMOOTHING] [--patience PATIENCE]\n",
      "                [--freeze FREEZE] [--save-period SAVE_PERIOD]\n",
      "                [--local_rank LOCAL_RANK] [--entity ENTITY] [--upload_dataset]\n",
      "                [--bbox_interval BBOX_INTERVAL]\n",
      "                [--artifact_alias ARTIFACT_ALIAS]\n",
      "train.py: error: unrecognized arguments: --nocache\n"
     ]
    }
   ],
   "source": [
    "!python train.py --data {data_folder}/lidar.yaml --cfg yolov5s.yaml --weights '' --img 1024 --batch 16 --epochs 1"
   ]
  },
  {
   "cell_type": "markdown",
   "metadata": {},
   "source": [
    "# Prediction"
   ]
  },
  {
   "cell_type": "code",
   "execution_count": 11,
   "metadata": {},
   "outputs": [
    {
     "name": "stdout",
     "output_type": "stream",
     "text": [
      "\u001b[34m\u001b[1mdetect: \u001b[0mweights=['yolov5x.pt'], source=../../videos/Video00001_ambient.avi, imgsz=[640, 640], conf_thres=0.25, iou_thres=0.45, max_det=1000, device=, view_img=False, save_txt=False, save_conf=False, save_crop=False, nosave=False, classes=None, agnostic_nms=False, augment=False, visualize=False, update=False, project=runs/detect, name=exp, exist_ok=False, line_thickness=3, hide_labels=False, hide_conf=False, half=False, dnn=False\n",
      "YOLOv5 🚀 v6.0-96-g8df64a9 torch 1.10.0+cu102 CPU\n",
      "\n",
      "Downloading https://github.com/ultralytics/yolov5/releases/download/v6.0/yolov5x.pt to yolov5x.pt...\n",
      "100%|████████████████████████████████████████| 166M/166M [00:24<00:00, 7.15MB/s]\n",
      "\n",
      "Fusing layers... \n",
      "Model Summary: 444 layers, 86705005 parameters, 0 gradients\n",
      "video 1/1 (1/101) /home/nicklas/repos/artificial-intelligence/TDT17-object-detection-project/videos/Video00001_ambient.avi: 96x640 2 persons, 1 car, 1 train, Done. (0.343s)\n",
      "video 1/1 (2/101) /home/nicklas/repos/artificial-intelligence/TDT17-object-detection-project/videos/Video00001_ambient.avi: 96x640 1 car, 1 train, Done. (0.356s)\n",
      "video 1/1 (3/101) /home/nicklas/repos/artificial-intelligence/TDT17-object-detection-project/videos/Video00001_ambient.avi: 96x640 2 cars, Done. (0.310s)\n",
      "video 1/1 (4/101) /home/nicklas/repos/artificial-intelligence/TDT17-object-detection-project/videos/Video00001_ambient.avi: 96x640 1 car, 1 train, Done. (0.359s)\n",
      "video 1/1 (5/101) /home/nicklas/repos/artificial-intelligence/TDT17-object-detection-project/videos/Video00001_ambient.avi: 96x640 1 car, Done. (0.341s)\n",
      "video 1/1 (6/101) /home/nicklas/repos/artificial-intelligence/TDT17-object-detection-project/videos/Video00001_ambient.avi: 96x640 Done. (0.397s)\n",
      "video 1/1 (7/101) /home/nicklas/repos/artificial-intelligence/TDT17-object-detection-project/videos/Video00001_ambient.avi: 96x640 1 person, 1 car, 1 train, Done. (0.301s)\n",
      "video 1/1 (8/101) /home/nicklas/repos/artificial-intelligence/TDT17-object-detection-project/videos/Video00001_ambient.avi: 96x640 1 person, 1 car, Done. (0.367s)\n",
      "video 1/1 (9/101) /home/nicklas/repos/artificial-intelligence/TDT17-object-detection-project/videos/Video00001_ambient.avi: 96x640 1 train, Done. (0.298s)\n",
      "video 1/1 (10/101) /home/nicklas/repos/artificial-intelligence/TDT17-object-detection-project/videos/Video00001_ambient.avi: 96x640 2 cars, Done. (0.281s)\n",
      "video 1/1 (11/101) /home/nicklas/repos/artificial-intelligence/TDT17-object-detection-project/videos/Video00001_ambient.avi: 96x640 1 car, 1 train, Done. (0.484s)\n",
      "video 1/1 (12/101) /home/nicklas/repos/artificial-intelligence/TDT17-object-detection-project/videos/Video00001_ambient.avi: 96x640 1 person, 2 cars, 1 train, Done. (0.550s)\n",
      "video 1/1 (13/101) /home/nicklas/repos/artificial-intelligence/TDT17-object-detection-project/videos/Video00001_ambient.avi: 96x640 2 cars, 1 train, Done. (0.454s)\n",
      "video 1/1 (14/101) /home/nicklas/repos/artificial-intelligence/TDT17-object-detection-project/videos/Video00001_ambient.avi: 96x640 1 car, Done. (0.579s)\n",
      "video 1/1 (15/101) /home/nicklas/repos/artificial-intelligence/TDT17-object-detection-project/videos/Video00001_ambient.avi: 96x640 2 trains, Done. (0.375s)\n",
      "video 1/1 (16/101) /home/nicklas/repos/artificial-intelligence/TDT17-object-detection-project/videos/Video00001_ambient.avi: 96x640 1 car, 1 train, Done. (0.339s)\n",
      "video 1/1 (17/101) /home/nicklas/repos/artificial-intelligence/TDT17-object-detection-project/videos/Video00001_ambient.avi: 96x640 1 person, 1 car, 1 train, Done. (0.291s)\n",
      "video 1/1 (18/101) /home/nicklas/repos/artificial-intelligence/TDT17-object-detection-project/videos/Video00001_ambient.avi: 96x640 2 cars, 1 train, Done. (0.385s)\n",
      "video 1/1 (19/101) /home/nicklas/repos/artificial-intelligence/TDT17-object-detection-project/videos/Video00001_ambient.avi: 96x640 1 car, 1 train, Done. (0.387s)\n",
      "video 1/1 (20/101) /home/nicklas/repos/artificial-intelligence/TDT17-object-detection-project/videos/Video00001_ambient.avi: 96x640 2 persons, 2 cars, 1 train, Done. (0.329s)\n",
      "video 1/1 (21/101) /home/nicklas/repos/artificial-intelligence/TDT17-object-detection-project/videos/Video00001_ambient.avi: 96x640 1 car, 1 train, Done. (0.461s)\n",
      "video 1/1 (22/101) /home/nicklas/repos/artificial-intelligence/TDT17-object-detection-project/videos/Video00001_ambient.avi: 96x640 1 car, Done. (0.366s)\n",
      "video 1/1 (23/101) /home/nicklas/repos/artificial-intelligence/TDT17-object-detection-project/videos/Video00001_ambient.avi: 96x640 1 car, Done. (0.337s)\n",
      "video 1/1 (24/101) /home/nicklas/repos/artificial-intelligence/TDT17-object-detection-project/videos/Video00001_ambient.avi: 96x640 2 cars, Done. (0.318s)\n",
      "video 1/1 (25/101) /home/nicklas/repos/artificial-intelligence/TDT17-object-detection-project/videos/Video00001_ambient.avi: 96x640 1 car, 1 train, Done. (0.320s)\n",
      "video 1/1 (26/101) /home/nicklas/repos/artificial-intelligence/TDT17-object-detection-project/videos/Video00001_ambient.avi: 96x640 2 cars, Done. (0.320s)\n",
      "video 1/1 (27/101) /home/nicklas/repos/artificial-intelligence/TDT17-object-detection-project/videos/Video00001_ambient.avi: 96x640 2 cars, 1 train, Done. (0.456s)\n",
      "video 1/1 (28/101) /home/nicklas/repos/artificial-intelligence/TDT17-object-detection-project/videos/Video00001_ambient.avi: 96x640 1 person, 2 cars, 1 train, Done. (0.334s)\n",
      "video 1/1 (29/101) /home/nicklas/repos/artificial-intelligence/TDT17-object-detection-project/videos/Video00001_ambient.avi: 96x640 1 person, 2 cars, Done. (0.398s)\n",
      "video 1/1 (30/101) /home/nicklas/repos/artificial-intelligence/TDT17-object-detection-project/videos/Video00001_ambient.avi: 96x640 1 car, 1 train, Done. (0.506s)\n",
      "video 1/1 (31/101) /home/nicklas/repos/artificial-intelligence/TDT17-object-detection-project/videos/Video00001_ambient.avi: 96x640 1 person, Done. (0.511s)\n",
      "video 1/1 (32/101) /home/nicklas/repos/artificial-intelligence/TDT17-object-detection-project/videos/Video00001_ambient.avi: 96x640 1 car, 1 train, Done. (0.487s)\n",
      "video 1/1 (33/101) /home/nicklas/repos/artificial-intelligence/TDT17-object-detection-project/videos/Video00001_ambient.avi: 96x640 3 cars, 1 train, Done. (0.340s)\n",
      "video 1/1 (34/101) /home/nicklas/repos/artificial-intelligence/TDT17-object-detection-project/videos/Video00001_ambient.avi: 96x640 2 cars, 1 train, Done. (0.328s)\n",
      "video 1/1 (35/101) /home/nicklas/repos/artificial-intelligence/TDT17-object-detection-project/videos/Video00001_ambient.avi: 96x640 4 cars, Done. (0.405s)\n",
      "video 1/1 (36/101) /home/nicklas/repos/artificial-intelligence/TDT17-object-detection-project/videos/Video00001_ambient.avi: 96x640 2 cars, Done. (0.289s)\n",
      "video 1/1 (37/101) /home/nicklas/repos/artificial-intelligence/TDT17-object-detection-project/videos/Video00001_ambient.avi: 96x640 1 person, 3 cars, 1 train, Done. (0.287s)\n",
      "video 1/1 (38/101) /home/nicklas/repos/artificial-intelligence/TDT17-object-detection-project/videos/Video00001_ambient.avi: 96x640 1 person, 2 cars, 1 traffic light, 1 stop sign, Done. (0.274s)\n",
      "video 1/1 (39/101) /home/nicklas/repos/artificial-intelligence/TDT17-object-detection-project/videos/Video00001_ambient.avi: 96x640 1 person, 1 car, 1 train, Done. (0.267s)\n",
      "video 1/1 (40/101) /home/nicklas/repos/artificial-intelligence/TDT17-object-detection-project/videos/Video00001_ambient.avi: 96x640 1 person, 1 car, Done. (0.271s)\n",
      "video 1/1 (41/101) /home/nicklas/repos/artificial-intelligence/TDT17-object-detection-project/videos/Video00001_ambient.avi: 96x640 1 person, Done. (0.273s)\n",
      "video 1/1 (42/101) /home/nicklas/repos/artificial-intelligence/TDT17-object-detection-project/videos/Video00001_ambient.avi: 96x640 Done. (0.304s)\n",
      "video 1/1 (43/101) /home/nicklas/repos/artificial-intelligence/TDT17-object-detection-project/videos/Video00001_ambient.avi: 96x640 1 person, 1 car, Done. (0.282s)\n",
      "video 1/1 (44/101) /home/nicklas/repos/artificial-intelligence/TDT17-object-detection-project/videos/Video00001_ambient.avi: 96x640 Done. (0.303s)\n",
      "video 1/1 (45/101) /home/nicklas/repos/artificial-intelligence/TDT17-object-detection-project/videos/Video00001_ambient.avi: 96x640 Done. (0.328s)\n",
      "video 1/1 (46/101) /home/nicklas/repos/artificial-intelligence/TDT17-object-detection-project/videos/Video00001_ambient.avi: 96x640 2 persons, Done. (0.307s)\n",
      "video 1/1 (47/101) /home/nicklas/repos/artificial-intelligence/TDT17-object-detection-project/videos/Video00001_ambient.avi: 96x640 Done. (0.287s)\n",
      "video 1/1 (48/101) /home/nicklas/repos/artificial-intelligence/TDT17-object-detection-project/videos/Video00001_ambient.avi: 96x640 1 train, Done. (0.295s)\n",
      "video 1/1 (49/101) /home/nicklas/repos/artificial-intelligence/TDT17-object-detection-project/videos/Video00001_ambient.avi: 96x640 Done. (0.290s)\n",
      "video 1/1 (50/101) /home/nicklas/repos/artificial-intelligence/TDT17-object-detection-project/videos/Video00001_ambient.avi: 96x640 1 train, Done. (0.295s)\n",
      "video 1/1 (51/101) /home/nicklas/repos/artificial-intelligence/TDT17-object-detection-project/videos/Video00001_ambient.avi: 96x640 1 person, 1 train, Done. (0.350s)\n",
      "video 1/1 (52/101) /home/nicklas/repos/artificial-intelligence/TDT17-object-detection-project/videos/Video00001_ambient.avi: 96x640 1 train, Done. (0.315s)\n",
      "video 1/1 (53/101) /home/nicklas/repos/artificial-intelligence/TDT17-object-detection-project/videos/Video00001_ambient.avi: 96x640 1 train, 1 traffic light, Done. (0.322s)\n",
      "video 1/1 (54/101) /home/nicklas/repos/artificial-intelligence/TDT17-object-detection-project/videos/Video00001_ambient.avi: 96x640 1 train, Done. (0.389s)\n",
      "video 1/1 (55/101) /home/nicklas/repos/artificial-intelligence/TDT17-object-detection-project/videos/Video00001_ambient.avi: 96x640 1 car, Done. (0.309s)\n",
      "video 1/1 (56/101) /home/nicklas/repos/artificial-intelligence/TDT17-object-detection-project/videos/Video00001_ambient.avi: 96x640 1 person, 1 car, Done. (0.310s)\n",
      "video 1/1 (57/101) /home/nicklas/repos/artificial-intelligence/TDT17-object-detection-project/videos/Video00001_ambient.avi: 96x640 2 persons, Done. (0.319s)\n",
      "video 1/1 (58/101) /home/nicklas/repos/artificial-intelligence/TDT17-object-detection-project/videos/Video00001_ambient.avi: 96x640 Done. (0.313s)\n",
      "video 1/1 (59/101) /home/nicklas/repos/artificial-intelligence/TDT17-object-detection-project/videos/Video00001_ambient.avi: 96x640 1 train, Done. (0.281s)\n",
      "video 1/1 (60/101) /home/nicklas/repos/artificial-intelligence/TDT17-object-detection-project/videos/Video00001_ambient.avi: 96x640 Done. (0.301s)\n",
      "video 1/1 (61/101) /home/nicklas/repos/artificial-intelligence/TDT17-object-detection-project/videos/Video00001_ambient.avi: 96x640 Done. (0.319s)\n",
      "video 1/1 (62/101) /home/nicklas/repos/artificial-intelligence/TDT17-object-detection-project/videos/Video00001_ambient.avi: 96x640 Done. (0.301s)\n",
      "video 1/1 (63/101) /home/nicklas/repos/artificial-intelligence/TDT17-object-detection-project/videos/Video00001_ambient.avi: 96x640 Done. (0.282s)\n",
      "video 1/1 (64/101) /home/nicklas/repos/artificial-intelligence/TDT17-object-detection-project/videos/Video00001_ambient.avi: 96x640 1 train, 1 suitcase, Done. (0.300s)\n",
      "video 1/1 (65/101) /home/nicklas/repos/artificial-intelligence/TDT17-object-detection-project/videos/Video00001_ambient.avi: 96x640 1 person, Done. (0.298s)\n",
      "video 1/1 (66/101) /home/nicklas/repos/artificial-intelligence/TDT17-object-detection-project/videos/Video00001_ambient.avi: 96x640 1 car, 1 train, Done. (0.313s)\n",
      "video 1/1 (67/101) /home/nicklas/repos/artificial-intelligence/TDT17-object-detection-project/videos/Video00001_ambient.avi: 96x640 2 persons, 1 train, Done. (0.290s)\n",
      "video 1/1 (68/101) /home/nicklas/repos/artificial-intelligence/TDT17-object-detection-project/videos/Video00001_ambient.avi: 96x640 2 trains, Done. (0.298s)\n",
      "video 1/1 (69/101) /home/nicklas/repos/artificial-intelligence/TDT17-object-detection-project/videos/Video00001_ambient.avi: 96x640 1 train, Done. (0.273s)\n",
      "video 1/1 (70/101) /home/nicklas/repos/artificial-intelligence/TDT17-object-detection-project/videos/Video00001_ambient.avi: 96x640 1 person, 1 car, 2 trains, Done. (0.299s)\n",
      "video 1/1 (71/101) /home/nicklas/repos/artificial-intelligence/TDT17-object-detection-project/videos/Video00001_ambient.avi: 96x640 1 car, 1 train, Done. (0.296s)\n",
      "video 1/1 (72/101) /home/nicklas/repos/artificial-intelligence/TDT17-object-detection-project/videos/Video00001_ambient.avi: 96x640 1 train, Done. (0.287s)\n",
      "video 1/1 (73/101) /home/nicklas/repos/artificial-intelligence/TDT17-object-detection-project/videos/Video00001_ambient.avi: 96x640 Done. (0.307s)\n",
      "video 1/1 (74/101) /home/nicklas/repos/artificial-intelligence/TDT17-object-detection-project/videos/Video00001_ambient.avi: 96x640 1 car, Done. (0.264s)\n",
      "video 1/1 (75/101) /home/nicklas/repos/artificial-intelligence/TDT17-object-detection-project/videos/Video00001_ambient.avi: 96x640 1 car, Done. (0.290s)\n",
      "video 1/1 (76/101) /home/nicklas/repos/artificial-intelligence/TDT17-object-detection-project/videos/Video00001_ambient.avi: 96x640 1 car, Done. (0.303s)\n",
      "video 1/1 (77/101) /home/nicklas/repos/artificial-intelligence/TDT17-object-detection-project/videos/Video00001_ambient.avi: 96x640 1 person, 1 car, Done. (0.297s)\n",
      "video 1/1 (78/101) /home/nicklas/repos/artificial-intelligence/TDT17-object-detection-project/videos/Video00001_ambient.avi: 96x640 1 person, Done. (0.304s)\n",
      "video 1/1 (79/101) /home/nicklas/repos/artificial-intelligence/TDT17-object-detection-project/videos/Video00001_ambient.avi: 96x640 2 persons, Done. (0.276s)\n",
      "video 1/1 (80/101) /home/nicklas/repos/artificial-intelligence/TDT17-object-detection-project/videos/Video00001_ambient.avi: 96x640 1 person, Done. (0.284s)\n",
      "video 1/1 (81/101) /home/nicklas/repos/artificial-intelligence/TDT17-object-detection-project/videos/Video00001_ambient.avi: 96x640 1 car, Done. (0.301s)\n",
      "video 1/1 (82/101) /home/nicklas/repos/artificial-intelligence/TDT17-object-detection-project/videos/Video00001_ambient.avi: 96x640 3 persons, Done. (0.284s)\n",
      "video 1/1 (83/101) /home/nicklas/repos/artificial-intelligence/TDT17-object-detection-project/videos/Video00001_ambient.avi: 96x640 3 persons, Done. (0.308s)\n",
      "video 1/1 (84/101) /home/nicklas/repos/artificial-intelligence/TDT17-object-detection-project/videos/Video00001_ambient.avi: 96x640 Done. (0.301s)\n",
      "video 1/1 (85/101) /home/nicklas/repos/artificial-intelligence/TDT17-object-detection-project/videos/Video00001_ambient.avi: 96x640 Done. (0.296s)\n",
      "video 1/1 (86/101) /home/nicklas/repos/artificial-intelligence/TDT17-object-detection-project/videos/Video00001_ambient.avi: 96x640 1 person, Done. (0.292s)\n",
      "video 1/1 (87/101) /home/nicklas/repos/artificial-intelligence/TDT17-object-detection-project/videos/Video00001_ambient.avi: 96x640 2 persons, Done. (0.285s)\n",
      "video 1/1 (88/101) /home/nicklas/repos/artificial-intelligence/TDT17-object-detection-project/videos/Video00001_ambient.avi: 96x640 2 persons, Done. (0.295s)\n",
      "video 1/1 (89/101) /home/nicklas/repos/artificial-intelligence/TDT17-object-detection-project/videos/Video00001_ambient.avi: 96x640 1 person, Done. (0.304s)\n",
      "video 1/1 (90/101) /home/nicklas/repos/artificial-intelligence/TDT17-object-detection-project/videos/Video00001_ambient.avi: 96x640 2 persons, Done. (0.288s)\n",
      "video 1/1 (91/101) /home/nicklas/repos/artificial-intelligence/TDT17-object-detection-project/videos/Video00001_ambient.avi: 96x640 2 persons, Done. (0.338s)\n",
      "video 1/1 (92/101) /home/nicklas/repos/artificial-intelligence/TDT17-object-detection-project/videos/Video00001_ambient.avi: 96x640 3 persons, Done. (0.351s)\n",
      "video 1/1 (93/101) /home/nicklas/repos/artificial-intelligence/TDT17-object-detection-project/videos/Video00001_ambient.avi: 96x640 2 persons, Done. (0.347s)\n",
      "video 1/1 (94/101) /home/nicklas/repos/artificial-intelligence/TDT17-object-detection-project/videos/Video00001_ambient.avi: 96x640 2 persons, Done. (0.724s)\n",
      "video 1/1 (95/101) /home/nicklas/repos/artificial-intelligence/TDT17-object-detection-project/videos/Video00001_ambient.avi: 96x640 2 persons, Done. (0.644s)\n",
      "video 1/1 (96/101) /home/nicklas/repos/artificial-intelligence/TDT17-object-detection-project/videos/Video00001_ambient.avi: 96x640 1 person, Done. (0.316s)\n",
      "video 1/1 (97/101) /home/nicklas/repos/artificial-intelligence/TDT17-object-detection-project/videos/Video00001_ambient.avi: 96x640 2 persons, Done. (0.529s)\n",
      "video 1/1 (98/101) /home/nicklas/repos/artificial-intelligence/TDT17-object-detection-project/videos/Video00001_ambient.avi: 96x640 1 person, Done. (0.329s)\n",
      "video 1/1 (99/101) /home/nicklas/repos/artificial-intelligence/TDT17-object-detection-project/videos/Video00001_ambient.avi: 96x640 1 person, Done. (0.361s)\n",
      "video 1/1 (100/101) /home/nicklas/repos/artificial-intelligence/TDT17-object-detection-project/videos/Video00001_ambient.avi: 96x640 1 person, Done. (0.320s)\n",
      "video 1/1 (101/101) /home/nicklas/repos/artificial-intelligence/TDT17-object-detection-project/videos/Video00001_ambient.avi: 96x640 2 persons, Done. (0.308s)\n",
      "Speed: 0.4ms pre-process, 340.4ms inference, 0.8ms NMS per image at shape (1, 3, 640, 640)\n",
      "Results saved to \u001b[1mruns/detect/exp\u001b[0m\n"
     ]
    }
   ],
   "source": [
    "!python detect.py --weights yolov5x.pt --source {videos_folder}/Video00001_ambient.avi"
   ]
  },
  {
   "cell_type": "code",
   "execution_count": null,
   "metadata": {},
   "outputs": [],
   "source": []
  }
 ],
 "metadata": {
  "interpreter": {
   "hash": "6da342c7990a5cca74f7417bc6f61904e59bb57a1ab69ff52cc17ca27f0d1310"
  },
  "kernelspec": {
   "display_name": "Python 3.8.10 64-bit ('venv': venv)",
   "language": "python",
   "name": "python3"
  },
  "language_info": {
   "codemirror_mode": {
    "name": "ipython",
    "version": 3
   },
   "file_extension": ".py",
   "mimetype": "text/x-python",
   "name": "python",
   "nbconvert_exporter": "python",
   "pygments_lexer": "ipython3",
   "version": "3.8.10"
  },
  "orig_nbformat": 4
 },
 "nbformat": 4,
 "nbformat_minor": 2
}
