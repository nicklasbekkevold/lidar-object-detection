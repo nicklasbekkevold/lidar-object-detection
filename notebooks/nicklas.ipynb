{
  "nbformat": 4,
  "nbformat_minor": 0,
  "metadata": {
    "interpreter": {
      "hash": "6da342c7990a5cca74f7417bc6f61904e59bb57a1ab69ff52cc17ca27f0d1310"
    },
    "kernelspec": {
      "display_name": "Python 3.8.10 64-bit ('venv': venv)",
      "language": "python",
      "name": "python3"
    },
    "language_info": {
      "codemirror_mode": {
        "name": "ipython",
        "version": 3
      },
      "file_extension": ".py",
      "mimetype": "text/x-python",
      "name": "python",
      "nbconvert_exporter": "python",
      "pygments_lexer": "ipython3",
      "version": "3.8.10"
    },
    "orig_nbformat": 4,
    "colab": {
      "name": "tdt17.ipynb",
      "provenance": [],
      "collapsed_sections": [],
      "include_colab_link": true
    },
    "accelerator": "GPU"
  },
  "cells": [
    {
      "cell_type": "markdown",
      "metadata": {
        "id": "view-in-github",
        "colab_type": "text"
      },
      "source": [
        "<a href=\"https://colab.research.google.com/github/nicklasbekkevold/lidar-object-detection/blob/main/notebooks/nicklas.ipynb\" target=\"_parent\"><img src=\"https://colab.research.google.com/assets/colab-badge.svg\" alt=\"Open In Colab\"/></a>"
      ]
    },
    {
      "cell_type": "markdown",
      "metadata": {
        "id": "kTpOXKCKn2n-"
      },
      "source": [
        "# Import and install requirements"
      ]
    },
    {
      "cell_type": "code",
      "metadata": {
        "id": "AjIxTZfNoM9o",
        "colab": {
          "base_uri": "https://localhost:8080/"
        },
        "outputId": "8e3f5c68-2eaf-4d10-c26b-3b4e641b31d8"
      },
      "source": [
        "from google.colab import drive\n",
        "drive.mount('/content/drive')"
      ],
      "execution_count": null,
      "outputs": [
        {
          "output_type": "stream",
          "name": "stdout",
          "text": [
            "Mounted at /content/drive\n"
          ]
        }
      ]
    },
    {
      "cell_type": "code",
      "metadata": {
        "id": "9a48r4T_n2oF",
        "colab": {
          "base_uri": "https://localhost:8080/"
        },
        "outputId": "2f037429-8efc-4150-b84c-7ae7f239db23"
      },
      "source": [
        "import os\n",
        "\n",
        "!git clone https://github.com/ultralytics/yolov5  # clone\n",
        "\n",
        "directory = os.getcwd().split('/')[-1]\n",
        "if directory != 'yolov5':\n",
        "  %cd yolov5\n",
        "\n",
        "!pip install -qr requirements.txt  # install\n",
        "\n",
        "from yolov5 import utils\n",
        "display = utils.notebook_init()  # checks"
      ],
      "execution_count": null,
      "outputs": [
        {
          "output_type": "stream",
          "name": "stderr",
          "text": [
            "YOLOv5 🚀 v6.0-114-ga4207a2 torch 1.10.0+cu111 CUDA:0 (Tesla K80, 11441MiB)\n"
          ]
        },
        {
          "output_type": "stream",
          "name": "stdout",
          "text": [
            "Setup complete ✅\n"
          ]
        }
      ]
    },
    {
      "cell_type": "markdown",
      "metadata": {
        "id": "5wnAlZNnn2oJ"
      },
      "source": [
        "## Folder shortcuts"
      ]
    },
    {
      "cell_type": "code",
      "metadata": {
        "id": "NV0cKwlTq0yc"
      },
      "source": [
        "data_folder = '/content/drive/MyDrive/tdt17/data'\n",
        "videos_folder = '/content/drive/MyDrive/tdt17/videos'"
      ],
      "execution_count": null,
      "outputs": []
    },
    {
      "cell_type": "code",
      "metadata": {
        "id": "BykN8DqEcrgA"
      },
      "source": [
        "images_count = len(os.listdir(f'{data_folder}/images'))\n",
        "labels_count = len(os.listdir(f'{data_folder}/labels'))\n",
        "assert images_count == labels_count, 'images and labels count do not match'"
      ],
      "execution_count": null,
      "outputs": []
    },
    {
      "cell_type": "markdown",
      "metadata": {
        "id": "RB_G78Usn2oO"
      },
      "source": [
        "# Training"
      ]
    },
    {
      "cell_type": "code",
      "metadata": {
        "id": "m8rBLVLxn2oO",
        "colab": {
          "base_uri": "https://localhost:8080/"
        },
        "outputId": "0cee38c1-aa84-47a4-fef5-0e5956f74d05"
      },
      "source": [
        "!python train.py --data {data_folder}/lidar.yaml --weights yolov5s.pt --img 1024 --batch 16 --epochs 5"
      ],
      "execution_count": null,
      "outputs": [
        {
          "output_type": "stream",
          "name": "stdout",
          "text": [
            "\u001b[34m\u001b[1mtrain: \u001b[0mweights=yolov5s.pt, cfg=, data=/content/drive/MyDrive/tdt17/data/lidar.yaml, hyp=data/hyps/hyp.scratch.yaml, epochs=5, batch_size=16, imgsz=1024, rect=False, resume=False, nosave=False, noval=False, noautoanchor=False, evolve=None, bucket=, cache=None, image_weights=False, device=, multi_scale=False, single_cls=False, adam=False, sync_bn=False, workers=8, project=runs/train, name=exp, exist_ok=False, quad=False, linear_lr=False, label_smoothing=0.0, patience=100, freeze=0, save_period=-1, local_rank=-1, entity=None, upload_dataset=False, bbox_interval=-1, artifact_alias=latest\n",
            "\u001b[34m\u001b[1mgithub: \u001b[0mup to date with https://github.com/ultralytics/yolov5 ✅\n",
            "YOLOv5 🚀 v6.0-114-ga4207a2 torch 1.10.0+cu111 CUDA:0 (Tesla K80, 11441MiB)\n",
            "\n",
            "\u001b[34m\u001b[1mhyperparameters: \u001b[0mlr0=0.01, lrf=0.1, momentum=0.937, weight_decay=0.0005, warmup_epochs=3.0, warmup_momentum=0.8, warmup_bias_lr=0.1, box=0.05, cls=0.5, cls_pw=1.0, obj=1.0, obj_pw=1.0, iou_t=0.2, anchor_t=4.0, fl_gamma=0.0, hsv_h=0.015, hsv_s=0.7, hsv_v=0.4, degrees=0.0, translate=0.1, scale=0.5, shear=0.0, perspective=0.0, flipud=0.0, fliplr=0.5, mosaic=1.0, mixup=0.0, copy_paste=0.0\n",
            "\u001b[34m\u001b[1mWeights & Biases: \u001b[0mrun 'pip install wandb' to automatically track and visualize YOLOv5 🚀 runs (RECOMMENDED)\n",
            "\u001b[34m\u001b[1mTensorBoard: \u001b[0mStart with 'tensorboard --logdir runs/train', view at http://localhost:6006/\n",
            "Overriding model.yaml nc=80 with nc=8\n",
            "\n",
            "                 from  n    params  module                                  arguments                     \n",
            "  0                -1  1      3520  models.common.Conv                      [3, 32, 6, 2, 2]              \n",
            "  1                -1  1     18560  models.common.Conv                      [32, 64, 3, 2]                \n",
            "  2                -1  1     18816  models.common.C3                        [64, 64, 1]                   \n",
            "  3                -1  1     73984  models.common.Conv                      [64, 128, 3, 2]               \n",
            "  4                -1  2    115712  models.common.C3                        [128, 128, 2]                 \n",
            "  5                -1  1    295424  models.common.Conv                      [128, 256, 3, 2]              \n",
            "  6                -1  3    625152  models.common.C3                        [256, 256, 3]                 \n",
            "  7                -1  1   1180672  models.common.Conv                      [256, 512, 3, 2]              \n",
            "  8                -1  1   1182720  models.common.C3                        [512, 512, 1]                 \n",
            "  9                -1  1    656896  models.common.SPPF                      [512, 512, 5]                 \n",
            " 10                -1  1    131584  models.common.Conv                      [512, 256, 1, 1]              \n",
            " 11                -1  1         0  torch.nn.modules.upsampling.Upsample    [None, 2, 'nearest']          \n",
            " 12           [-1, 6]  1         0  models.common.Concat                    [1]                           \n",
            " 13                -1  1    361984  models.common.C3                        [512, 256, 1, False]          \n",
            " 14                -1  1     33024  models.common.Conv                      [256, 128, 1, 1]              \n",
            " 15                -1  1         0  torch.nn.modules.upsampling.Upsample    [None, 2, 'nearest']          \n",
            " 16           [-1, 4]  1         0  models.common.Concat                    [1]                           \n",
            " 17                -1  1     90880  models.common.C3                        [256, 128, 1, False]          \n",
            " 18                -1  1    147712  models.common.Conv                      [128, 128, 3, 2]              \n",
            " 19          [-1, 14]  1         0  models.common.Concat                    [1]                           \n",
            " 20                -1  1    296448  models.common.C3                        [256, 256, 1, False]          \n",
            " 21                -1  1    590336  models.common.Conv                      [256, 256, 3, 2]              \n",
            " 22          [-1, 10]  1         0  models.common.Concat                    [1]                           \n",
            " 23                -1  1   1182720  models.common.C3                        [512, 512, 1, False]          \n",
            " 24      [17, 20, 23]  1     35061  models.yolo.Detect                      [8, [[10, 13, 16, 30, 33, 23], [30, 61, 62, 45, 59, 119], [116, 90, 156, 198, 373, 326]], [128, 256, 512]]\n",
            "Model Summary: 270 layers, 7041205 parameters, 7041205 gradients, 15.9 GFLOPs\n",
            "\n",
            "Transferred 343/349 items from yolov5s.pt\n",
            "Scaled weight_decay = 0.0005\n",
            "\u001b[34m\u001b[1moptimizer:\u001b[0m SGD with parameter groups 57 weight, 60 weight (no decay), 60 bias\n",
            "\u001b[34m\u001b[1malbumentations: \u001b[0mversion 1.0.3 required by YOLOv5, but version 0.1.12 is currently installed\n",
            "\u001b[34m\u001b[1mtrain: \u001b[0mScanning '/content/drive/MyDrive/tdt17/data/all_videos_merged/labels' images and labels...903 found, 0 missing, 0 empty, 0 corrupted: 100% 903/903 [05:36<00:00,  2.68it/s]\n",
            "\u001b[34m\u001b[1mtrain: \u001b[0mNew cache created: /content/drive/MyDrive/tdt17/data/all_videos_merged/labels.cache\n",
            "\u001b[34m\u001b[1mval: \u001b[0mScanning '/content/drive/MyDrive/tdt17/data/all_videos_merged/labels.cache' images and labels... 903 found, 0 missing, 0 empty, 0 corrupted: 100% 903/903 [00:00<?, ?it/s]\n",
            "Plotting labels to runs/train/exp6/labels.jpg... \n",
            "\n",
            "\u001b[34m\u001b[1mAutoAnchor: \u001b[0m3.46 anchors/target, 0.996 Best Possible Recall (BPR). Current anchors are a good fit to dataset ✅\n",
            "Image sizes 1024 train, 1024 val\n",
            "Using 2 dataloader workers\n",
            "Logging results to \u001b[1mruns/train/exp6\u001b[0m\n",
            "Starting training for 5 epochs...\n",
            "\n",
            "     Epoch   gpu_mem       box       obj       cls    labels  img_size\n",
            "       0/4     7.79G      0.12   0.06424   0.05059        93      1024: 100% 57/57 [02:41<00:00,  2.83s/it]\n",
            "               Class     Images     Labels          P          R     mAP@.5 mAP@.5:.95: 100% 29/29 [00:12<00:00,  2.28it/s]\n",
            "                 all        903       8566     0.0626     0.0376     0.0179    0.00456\n",
            "\n",
            "     Epoch   gpu_mem       box       obj       cls    labels  img_size\n",
            "       1/4     7.79G   0.09618   0.05537   0.02861       134      1024: 100% 57/57 [02:37<00:00,  2.77s/it]\n",
            "               Class     Images     Labels          P          R     mAP@.5 mAP@.5:.95: 100% 29/29 [00:13<00:00,  2.16it/s]\n",
            "                 all        903       8566      0.851     0.0716     0.0644     0.0164\n",
            "\n",
            "     Epoch   gpu_mem       box       obj       cls    labels  img_size\n",
            "       2/4     7.79G   0.08064   0.05006   0.02072       141      1024: 100% 57/57 [02:36<00:00,  2.75s/it]\n",
            "               Class     Images     Labels          P          R     mAP@.5 mAP@.5:.95: 100% 29/29 [00:13<00:00,  2.20it/s]\n",
            "                 all        903       8566      0.609      0.183     0.0899     0.0216\n",
            "\n",
            "     Epoch   gpu_mem       box       obj       cls    labels  img_size\n",
            "       3/4     7.79G   0.07764   0.04675   0.01773        64      1024: 100% 57/57 [02:35<00:00,  2.73s/it]\n",
            "               Class     Images     Labels          P          R     mAP@.5 mAP@.5:.95: 100% 29/29 [00:12<00:00,  2.25it/s]\n",
            "                 all        903       8566      0.675      0.198      0.141     0.0411\n",
            "\n",
            "     Epoch   gpu_mem       box       obj       cls    labels  img_size\n",
            "       4/4     7.79G   0.06735   0.04789   0.01542        72      1024: 100% 57/57 [02:35<00:00,  2.73s/it]\n",
            "               Class     Images     Labels          P          R     mAP@.5 mAP@.5:.95: 100% 29/29 [00:12<00:00,  2.29it/s]\n",
            "                 all        903       8566       0.75      0.198       0.19     0.0676\n",
            "\n",
            "5 epochs completed in 0.238 hours.\n",
            "Optimizer stripped from runs/train/exp6/weights/last.pt, 14.4MB\n",
            "Optimizer stripped from runs/train/exp6/weights/best.pt, 14.4MB\n",
            "\n",
            "Validating runs/train/exp6/weights/best.pt...\n",
            "Fusing layers... \n",
            "Model Summary: 213 layers, 7031701 parameters, 0 gradients, 15.9 GFLOPs\n",
            "               Class     Images     Labels          P          R     mAP@.5 mAP@.5:.95: 100% 29/29 [00:18<00:00,  1.59it/s]\n",
            "                 all        903       8566      0.749      0.198       0.19     0.0675\n",
            "                 car        903       4219      0.539      0.599      0.541      0.212\n",
            "                 bus        903        257          1          0    0.00352     0.0013\n",
            "              person        903       3365      0.456      0.195      0.202     0.0524\n",
            "               rider        903        725          1          0     0.0143    0.00447\n",
            "Results saved to \u001b[1mruns/train/exp6\u001b[0m\n"
          ]
        }
      ]
    },
    {
      "cell_type": "markdown",
      "metadata": {
        "id": "gbhKA9ixn2oQ"
      },
      "source": [
        "# Prediction"
      ]
    },
    {
      "cell_type": "markdown",
      "metadata": {
        "id": "5cuODHuBY4kP"
      },
      "source": [
        "## Get latest run"
      ]
    },
    {
      "cell_type": "code",
      "metadata": {
        "id": "2WIe3PbPY3k_"
      },
      "source": [
        "runs = sorted(os.listdir('./runs/train'), reverse=True)\n",
        "latest_run = runs[0]"
      ],
      "execution_count": null,
      "outputs": []
    },
    {
      "cell_type": "markdown",
      "metadata": {
        "id": "eAuGfF5vZ_kc"
      },
      "source": [
        "## Create a baseline"
      ]
    },
    {
      "cell_type": "code",
      "metadata": {
        "colab": {
          "base_uri": "https://localhost:8080/"
        },
        "id": "3c-R70PeXYBl",
        "outputId": "b67a6bf5-7301-4b7e-fa35-e77f92acf2d1"
      },
      "source": [
        "!python detect.py --weights yolov5s.pt --source {videos_folder}/Video00017_ambient.avi"
      ],
      "execution_count": null,
      "outputs": [
        {
          "output_type": "stream",
          "name": "stdout",
          "text": [
            "\u001b[34m\u001b[1mdetect: \u001b[0mweights=['yolov5s.pt'], source=/content/drive/MyDrive/tdt17/videos/Video00017_ambient.avi, imgsz=[640, 640], conf_thres=0.25, iou_thres=0.45, max_det=1000, device=, view_img=False, save_txt=False, save_conf=False, save_crop=False, nosave=False, classes=None, agnostic_nms=False, augment=False, visualize=False, update=False, project=runs/detect, name=exp, exist_ok=False, line_thickness=3, hide_labels=False, hide_conf=False, half=False, dnn=False\n",
            "YOLOv5 🚀 v6.0-114-ga4207a2 torch 1.10.0+cu111 CUDA:0 (Tesla K80, 11441MiB)\n",
            "\n",
            "Fusing layers... \n",
            "Model Summary: 213 layers, 7225885 parameters, 0 gradients\n",
            "video 1/1 (1/100) /content/drive/MyDrive/tdt17/videos/Video00017_ambient.avi: 96x640 1 person, 1 train, Done. (0.019s)\n",
            "video 1/1 (2/100) /content/drive/MyDrive/tdt17/videos/Video00017_ambient.avi: 96x640 2 persons, 1 car, Done. (0.017s)\n",
            "video 1/1 (3/100) /content/drive/MyDrive/tdt17/videos/Video00017_ambient.avi: 96x640 1 person, Done. (0.017s)\n",
            "video 1/1 (4/100) /content/drive/MyDrive/tdt17/videos/Video00017_ambient.avi: 96x640 3 persons, 1 car, Done. (0.017s)\n",
            "video 1/1 (5/100) /content/drive/MyDrive/tdt17/videos/Video00017_ambient.avi: 96x640 2 persons, Done. (0.017s)\n",
            "video 1/1 (6/100) /content/drive/MyDrive/tdt17/videos/Video00017_ambient.avi: 96x640 2 persons, Done. (0.017s)\n",
            "video 1/1 (7/100) /content/drive/MyDrive/tdt17/videos/Video00017_ambient.avi: 96x640 3 persons, 1 car, Done. (0.017s)\n",
            "video 1/1 (8/100) /content/drive/MyDrive/tdt17/videos/Video00017_ambient.avi: 96x640 2 persons, 1 car, 1 train, Done. (0.017s)\n",
            "video 1/1 (9/100) /content/drive/MyDrive/tdt17/videos/Video00017_ambient.avi: 96x640 2 persons, 1 car, 1 train, Done. (0.017s)\n",
            "video 1/1 (10/100) /content/drive/MyDrive/tdt17/videos/Video00017_ambient.avi: 96x640 1 person, 1 car, 1 train, Done. (0.017s)\n",
            "video 1/1 (11/100) /content/drive/MyDrive/tdt17/videos/Video00017_ambient.avi: 96x640 1 person, 1 car, Done. (0.017s)\n",
            "video 1/1 (12/100) /content/drive/MyDrive/tdt17/videos/Video00017_ambient.avi: 96x640 1 person, 2 cars, 1 train, Done. (0.017s)\n",
            "video 1/1 (13/100) /content/drive/MyDrive/tdt17/videos/Video00017_ambient.avi: 96x640 1 person, 1 car, Done. (0.017s)\n",
            "video 1/1 (14/100) /content/drive/MyDrive/tdt17/videos/Video00017_ambient.avi: 96x640 2 persons, 1 car, Done. (0.017s)\n",
            "video 1/1 (15/100) /content/drive/MyDrive/tdt17/videos/Video00017_ambient.avi: 96x640 1 person, 1 car, 1 train, Done. (0.017s)\n",
            "video 1/1 (16/100) /content/drive/MyDrive/tdt17/videos/Video00017_ambient.avi: 96x640 1 person, 1 car, 1 train, Done. (0.017s)\n",
            "video 1/1 (17/100) /content/drive/MyDrive/tdt17/videos/Video00017_ambient.avi: 96x640 2 persons, 1 car, 1 train, Done. (0.017s)\n",
            "video 1/1 (18/100) /content/drive/MyDrive/tdt17/videos/Video00017_ambient.avi: 96x640 1 person, 1 car, 1 train, Done. (0.017s)\n",
            "video 1/1 (19/100) /content/drive/MyDrive/tdt17/videos/Video00017_ambient.avi: 96x640 1 person, 1 car, 1 train, Done. (0.017s)\n",
            "video 1/1 (20/100) /content/drive/MyDrive/tdt17/videos/Video00017_ambient.avi: 96x640 1 person, 1 train, Done. (0.017s)\n",
            "video 1/1 (21/100) /content/drive/MyDrive/tdt17/videos/Video00017_ambient.avi: 96x640 2 persons, 1 bicycle, 1 car, 1 train, Done. (0.017s)\n",
            "video 1/1 (22/100) /content/drive/MyDrive/tdt17/videos/Video00017_ambient.avi: 96x640 4 persons, 1 car, 1 train, Done. (0.017s)\n",
            "video 1/1 (23/100) /content/drive/MyDrive/tdt17/videos/Video00017_ambient.avi: 96x640 2 persons, 1 train, Done. (0.017s)\n",
            "video 1/1 (24/100) /content/drive/MyDrive/tdt17/videos/Video00017_ambient.avi: 96x640 2 persons, 1 train, Done. (0.017s)\n",
            "video 1/1 (25/100) /content/drive/MyDrive/tdt17/videos/Video00017_ambient.avi: 96x640 1 person, 1 car, 1 train, Done. (0.017s)\n",
            "video 1/1 (26/100) /content/drive/MyDrive/tdt17/videos/Video00017_ambient.avi: 96x640 1 person, 1 car, Done. (0.017s)\n",
            "video 1/1 (27/100) /content/drive/MyDrive/tdt17/videos/Video00017_ambient.avi: 96x640 1 person, 1 train, Done. (0.017s)\n",
            "video 1/1 (28/100) /content/drive/MyDrive/tdt17/videos/Video00017_ambient.avi: 96x640 2 persons, 1 train, 1 horse, Done. (0.017s)\n",
            "video 1/1 (29/100) /content/drive/MyDrive/tdt17/videos/Video00017_ambient.avi: 96x640 1 person, 1 car, 1 train, Done. (0.017s)\n",
            "video 1/1 (30/100) /content/drive/MyDrive/tdt17/videos/Video00017_ambient.avi: 96x640 1 person, 1 train, Done. (0.017s)\n",
            "video 1/1 (31/100) /content/drive/MyDrive/tdt17/videos/Video00017_ambient.avi: 96x640 1 person, 1 train, Done. (0.017s)\n",
            "video 1/1 (32/100) /content/drive/MyDrive/tdt17/videos/Video00017_ambient.avi: 96x640 1 person, 1 car, 1 train, Done. (0.017s)\n",
            "video 1/1 (33/100) /content/drive/MyDrive/tdt17/videos/Video00017_ambient.avi: 96x640 1 person, 1 car, 1 train, Done. (0.018s)\n",
            "video 1/1 (34/100) /content/drive/MyDrive/tdt17/videos/Video00017_ambient.avi: 96x640 1 person, 1 car, Done. (0.017s)\n",
            "video 1/1 (35/100) /content/drive/MyDrive/tdt17/videos/Video00017_ambient.avi: 96x640 1 person, Done. (0.017s)\n",
            "video 1/1 (36/100) /content/drive/MyDrive/tdt17/videos/Video00017_ambient.avi: 96x640 Done. (0.017s)\n",
            "video 1/1 (37/100) /content/drive/MyDrive/tdt17/videos/Video00017_ambient.avi: 96x640 1 car, 1 traffic light, Done. (0.017s)\n",
            "video 1/1 (38/100) /content/drive/MyDrive/tdt17/videos/Video00017_ambient.avi: 96x640 1 traffic light, Done. (0.017s)\n",
            "video 1/1 (39/100) /content/drive/MyDrive/tdt17/videos/Video00017_ambient.avi: 96x640 1 traffic light, Done. (0.017s)\n",
            "video 1/1 (40/100) /content/drive/MyDrive/tdt17/videos/Video00017_ambient.avi: 96x640 1 traffic light, Done. (0.017s)\n",
            "video 1/1 (41/100) /content/drive/MyDrive/tdt17/videos/Video00017_ambient.avi: 96x640 1 person, 1 traffic light, Done. (0.018s)\n",
            "video 1/1 (42/100) /content/drive/MyDrive/tdt17/videos/Video00017_ambient.avi: 96x640 1 person, Done. (0.017s)\n",
            "video 1/1 (43/100) /content/drive/MyDrive/tdt17/videos/Video00017_ambient.avi: 96x640 1 person, Done. (0.017s)\n",
            "video 1/1 (44/100) /content/drive/MyDrive/tdt17/videos/Video00017_ambient.avi: 96x640 Done. (0.017s)\n",
            "video 1/1 (45/100) /content/drive/MyDrive/tdt17/videos/Video00017_ambient.avi: 96x640 1 bench, Done. (0.017s)\n",
            "video 1/1 (46/100) /content/drive/MyDrive/tdt17/videos/Video00017_ambient.avi: 96x640 1 train, Done. (0.017s)\n",
            "video 1/1 (47/100) /content/drive/MyDrive/tdt17/videos/Video00017_ambient.avi: 96x640 Done. (0.017s)\n",
            "video 1/1 (48/100) /content/drive/MyDrive/tdt17/videos/Video00017_ambient.avi: 96x640 Done. (0.017s)\n",
            "video 1/1 (49/100) /content/drive/MyDrive/tdt17/videos/Video00017_ambient.avi: 96x640 Done. (0.017s)\n",
            "video 1/1 (50/100) /content/drive/MyDrive/tdt17/videos/Video00017_ambient.avi: 96x640 Done. (0.017s)\n",
            "video 1/1 (51/100) /content/drive/MyDrive/tdt17/videos/Video00017_ambient.avi: 96x640 Done. (0.017s)\n",
            "video 1/1 (52/100) /content/drive/MyDrive/tdt17/videos/Video00017_ambient.avi: 96x640 Done. (0.017s)\n",
            "video 1/1 (53/100) /content/drive/MyDrive/tdt17/videos/Video00017_ambient.avi: 96x640 Done. (0.016s)\n",
            "video 1/1 (54/100) /content/drive/MyDrive/tdt17/videos/Video00017_ambient.avi: 96x640 Done. (0.017s)\n",
            "video 1/1 (55/100) /content/drive/MyDrive/tdt17/videos/Video00017_ambient.avi: 96x640 Done. (0.017s)\n",
            "video 1/1 (56/100) /content/drive/MyDrive/tdt17/videos/Video00017_ambient.avi: 96x640 1 person, Done. (0.016s)\n",
            "video 1/1 (57/100) /content/drive/MyDrive/tdt17/videos/Video00017_ambient.avi: 96x640 1 train, Done. (0.016s)\n",
            "video 1/1 (58/100) /content/drive/MyDrive/tdt17/videos/Video00017_ambient.avi: 96x640 2 trains, Done. (0.016s)\n",
            "video 1/1 (59/100) /content/drive/MyDrive/tdt17/videos/Video00017_ambient.avi: 96x640 2 trains, Done. (0.016s)\n",
            "video 1/1 (60/100) /content/drive/MyDrive/tdt17/videos/Video00017_ambient.avi: 96x640 1 train, Done. (0.016s)\n",
            "video 1/1 (61/100) /content/drive/MyDrive/tdt17/videos/Video00017_ambient.avi: 96x640 1 train, Done. (0.016s)\n",
            "video 1/1 (62/100) /content/drive/MyDrive/tdt17/videos/Video00017_ambient.avi: 96x640 3 trains, Done. (0.016s)\n",
            "video 1/1 (63/100) /content/drive/MyDrive/tdt17/videos/Video00017_ambient.avi: 96x640 1 person, 1 train, Done. (0.016s)\n",
            "video 1/1 (64/100) /content/drive/MyDrive/tdt17/videos/Video00017_ambient.avi: 96x640 1 person, 2 trains, Done. (0.016s)\n",
            "video 1/1 (65/100) /content/drive/MyDrive/tdt17/videos/Video00017_ambient.avi: 96x640 2 trains, Done. (0.016s)\n",
            "video 1/1 (66/100) /content/drive/MyDrive/tdt17/videos/Video00017_ambient.avi: 96x640 2 trains, Done. (0.016s)\n",
            "video 1/1 (67/100) /content/drive/MyDrive/tdt17/videos/Video00017_ambient.avi: 96x640 2 trains, Done. (0.016s)\n",
            "video 1/1 (68/100) /content/drive/MyDrive/tdt17/videos/Video00017_ambient.avi: 96x640 2 trains, Done. (0.016s)\n",
            "video 1/1 (69/100) /content/drive/MyDrive/tdt17/videos/Video00017_ambient.avi: 96x640 2 trains, Done. (0.016s)\n",
            "video 1/1 (70/100) /content/drive/MyDrive/tdt17/videos/Video00017_ambient.avi: 96x640 Done. (0.016s)\n",
            "video 1/1 (71/100) /content/drive/MyDrive/tdt17/videos/Video00017_ambient.avi: 96x640 1 bench, Done. (0.016s)\n",
            "video 1/1 (72/100) /content/drive/MyDrive/tdt17/videos/Video00017_ambient.avi: 96x640 1 person, 1 train, Done. (0.016s)\n",
            "video 1/1 (73/100) /content/drive/MyDrive/tdt17/videos/Video00017_ambient.avi: 96x640 1 train, Done. (0.016s)\n",
            "video 1/1 (74/100) /content/drive/MyDrive/tdt17/videos/Video00017_ambient.avi: 96x640 1 person, 1 train, Done. (0.016s)\n",
            "video 1/1 (75/100) /content/drive/MyDrive/tdt17/videos/Video00017_ambient.avi: 96x640 Done. (0.016s)\n",
            "video 1/1 (76/100) /content/drive/MyDrive/tdt17/videos/Video00017_ambient.avi: 96x640 1 person, 3 trains, Done. (0.016s)\n",
            "video 1/1 (77/100) /content/drive/MyDrive/tdt17/videos/Video00017_ambient.avi: 96x640 1 person, 1 train, Done. (0.016s)\n",
            "video 1/1 (78/100) /content/drive/MyDrive/tdt17/videos/Video00017_ambient.avi: 96x640 1 person, 2 trains, Done. (0.016s)\n",
            "video 1/1 (79/100) /content/drive/MyDrive/tdt17/videos/Video00017_ambient.avi: 96x640 1 train, Done. (0.017s)\n",
            "video 1/1 (80/100) /content/drive/MyDrive/tdt17/videos/Video00017_ambient.avi: 96x640 4 trains, Done. (0.016s)\n",
            "video 1/1 (81/100) /content/drive/MyDrive/tdt17/videos/Video00017_ambient.avi: 96x640 1 bench, Done. (0.016s)\n",
            "video 1/1 (82/100) /content/drive/MyDrive/tdt17/videos/Video00017_ambient.avi: 96x640 1 bench, Done. (0.016s)\n",
            "video 1/1 (83/100) /content/drive/MyDrive/tdt17/videos/Video00017_ambient.avi: 96x640 1 train, Done. (0.016s)\n",
            "video 1/1 (84/100) /content/drive/MyDrive/tdt17/videos/Video00017_ambient.avi: 96x640 1 person, 1 bench, Done. (0.016s)\n",
            "video 1/1 (85/100) /content/drive/MyDrive/tdt17/videos/Video00017_ambient.avi: 96x640 2 cars, Done. (0.016s)\n",
            "video 1/1 (86/100) /content/drive/MyDrive/tdt17/videos/Video00017_ambient.avi: 96x640 1 train, Done. (0.015s)\n",
            "video 1/1 (87/100) /content/drive/MyDrive/tdt17/videos/Video00017_ambient.avi: 96x640 2 persons, 1 train, Done. (0.016s)\n",
            "video 1/1 (88/100) /content/drive/MyDrive/tdt17/videos/Video00017_ambient.avi: 96x640 1 person, 2 trains, Done. (0.016s)\n",
            "video 1/1 (89/100) /content/drive/MyDrive/tdt17/videos/Video00017_ambient.avi: 96x640 1 train, Done. (0.016s)\n",
            "video 1/1 (90/100) /content/drive/MyDrive/tdt17/videos/Video00017_ambient.avi: 96x640 2 trains, Done. (0.016s)\n",
            "video 1/1 (91/100) /content/drive/MyDrive/tdt17/videos/Video00017_ambient.avi: 96x640 1 person, 1 train, Done. (0.016s)\n",
            "video 1/1 (92/100) /content/drive/MyDrive/tdt17/videos/Video00017_ambient.avi: 96x640 1 train, 1 bench, Done. (0.016s)\n",
            "video 1/1 (93/100) /content/drive/MyDrive/tdt17/videos/Video00017_ambient.avi: 96x640 1 train, Done. (0.016s)\n",
            "video 1/1 (94/100) /content/drive/MyDrive/tdt17/videos/Video00017_ambient.avi: 96x640 2 trains, Done. (0.016s)\n",
            "video 1/1 (95/100) /content/drive/MyDrive/tdt17/videos/Video00017_ambient.avi: 96x640 1 train, Done. (0.016s)\n",
            "video 1/1 (96/100) /content/drive/MyDrive/tdt17/videos/Video00017_ambient.avi: 96x640 2 trains, Done. (0.016s)\n",
            "video 1/1 (97/100) /content/drive/MyDrive/tdt17/videos/Video00017_ambient.avi: 96x640 2 trains, Done. (0.016s)\n",
            "video 1/1 (98/100) /content/drive/MyDrive/tdt17/videos/Video00017_ambient.avi: 96x640 2 trains, Done. (0.016s)\n",
            "video 1/1 (99/100) /content/drive/MyDrive/tdt17/videos/Video00017_ambient.avi: 96x640 2 trains, Done. (0.016s)\n",
            "video 1/1 (100/100) /content/drive/MyDrive/tdt17/videos/Video00017_ambient.avi: 96x640 1 train, Done. (0.016s)\n",
            "Speed: 0.2ms pre-process, 16.6ms inference, 1.3ms NMS per image at shape (1, 3, 640, 640)\n",
            "Results saved to \u001b[1mruns/detect/exp4\u001b[0m\n"
          ]
        }
      ]
    },
    {
      "cell_type": "code",
      "metadata": {
        "id": "-ZJLARJin2oS",
        "colab": {
          "base_uri": "https://localhost:8080/"
        },
        "outputId": "a0d1cea0-5877-4ffa-9ae8-cf80ab360679"
      },
      "source": [
        "!python detect.py --weights runs/train/{latest_run}/weights/best.pt --source {videos_folder}/Video00008_ambient.avi"
      ],
      "execution_count": null,
      "outputs": [
        {
          "output_type": "stream",
          "name": "stdout",
          "text": [
            "\u001b[34m\u001b[1mdetect: \u001b[0mweights=['runs/train/exp6/weights/best.pt'], source=/content/drive/MyDrive/tdt17/videos/Video00008_ambient.avi, imgsz=[640, 640], conf_thres=0.25, iou_thres=0.45, max_det=1000, device=, view_img=False, save_txt=False, save_conf=False, save_crop=False, nosave=False, classes=None, agnostic_nms=False, augment=False, visualize=False, update=False, project=runs/detect, name=exp, exist_ok=False, line_thickness=3, hide_labels=False, hide_conf=False, half=False, dnn=False\n",
            "YOLOv5 🚀 v6.0-114-ga4207a2 torch 1.10.0+cu111 CUDA:0 (Tesla K80, 11441MiB)\n",
            "\n",
            "Fusing layers... \n",
            "Model Summary: 213 layers, 7031701 parameters, 0 gradients, 15.9 GFLOPs\n",
            "video 1/1 (1/100) /content/drive/MyDrive/tdt17/videos/Video00008_ambient.avi: 96x640 6 cars, Done. (0.019s)\n",
            "video 1/1 (2/100) /content/drive/MyDrive/tdt17/videos/Video00008_ambient.avi: 96x640 4 cars, Done. (0.017s)\n",
            "video 1/1 (3/100) /content/drive/MyDrive/tdt17/videos/Video00008_ambient.avi: 96x640 6 cars, Done. (0.017s)\n",
            "video 1/1 (4/100) /content/drive/MyDrive/tdt17/videos/Video00008_ambient.avi: 96x640 6 cars, Done. (0.017s)\n",
            "video 1/1 (5/100) /content/drive/MyDrive/tdt17/videos/Video00008_ambient.avi: 96x640 5 cars, Done. (0.017s)\n",
            "video 1/1 (6/100) /content/drive/MyDrive/tdt17/videos/Video00008_ambient.avi: 96x640 5 cars, Done. (0.017s)\n",
            "video 1/1 (7/100) /content/drive/MyDrive/tdt17/videos/Video00008_ambient.avi: 96x640 5 cars, Done. (0.017s)\n",
            "video 1/1 (8/100) /content/drive/MyDrive/tdt17/videos/Video00008_ambient.avi: 96x640 5 cars, Done. (0.017s)\n",
            "video 1/1 (9/100) /content/drive/MyDrive/tdt17/videos/Video00008_ambient.avi: 96x640 4 cars, Done. (0.017s)\n",
            "video 1/1 (10/100) /content/drive/MyDrive/tdt17/videos/Video00008_ambient.avi: 96x640 4 cars, Done. (0.017s)\n",
            "video 1/1 (11/100) /content/drive/MyDrive/tdt17/videos/Video00008_ambient.avi: 96x640 5 cars, Done. (0.017s)\n",
            "video 1/1 (12/100) /content/drive/MyDrive/tdt17/videos/Video00008_ambient.avi: 96x640 6 cars, Done. (0.017s)\n",
            "video 1/1 (13/100) /content/drive/MyDrive/tdt17/videos/Video00008_ambient.avi: 96x640 5 cars, Done. (0.017s)\n",
            "video 1/1 (14/100) /content/drive/MyDrive/tdt17/videos/Video00008_ambient.avi: 96x640 5 cars, Done. (0.017s)\n",
            "video 1/1 (15/100) /content/drive/MyDrive/tdt17/videos/Video00008_ambient.avi: 96x640 4 cars, Done. (0.017s)\n",
            "video 1/1 (16/100) /content/drive/MyDrive/tdt17/videos/Video00008_ambient.avi: 96x640 6 cars, 1 person, Done. (0.017s)\n",
            "video 1/1 (17/100) /content/drive/MyDrive/tdt17/videos/Video00008_ambient.avi: 96x640 5 cars, Done. (0.017s)\n",
            "video 1/1 (18/100) /content/drive/MyDrive/tdt17/videos/Video00008_ambient.avi: 96x640 8 cars, 1 person, Done. (0.017s)\n",
            "video 1/1 (19/100) /content/drive/MyDrive/tdt17/videos/Video00008_ambient.avi: 96x640 7 cars, 1 person, Done. (0.017s)\n",
            "video 1/1 (20/100) /content/drive/MyDrive/tdt17/videos/Video00008_ambient.avi: 96x640 6 cars, 2 persons, Done. (0.017s)\n",
            "video 1/1 (21/100) /content/drive/MyDrive/tdt17/videos/Video00008_ambient.avi: 96x640 7 cars, 2 persons, Done. (0.017s)\n",
            "video 1/1 (22/100) /content/drive/MyDrive/tdt17/videos/Video00008_ambient.avi: 96x640 8 cars, 2 persons, Done. (0.017s)\n",
            "video 1/1 (23/100) /content/drive/MyDrive/tdt17/videos/Video00008_ambient.avi: 96x640 4 cars, 1 person, Done. (0.020s)\n",
            "video 1/1 (24/100) /content/drive/MyDrive/tdt17/videos/Video00008_ambient.avi: 96x640 6 cars, Done. (0.017s)\n",
            "video 1/1 (25/100) /content/drive/MyDrive/tdt17/videos/Video00008_ambient.avi: 96x640 7 cars, Done. (0.017s)\n",
            "video 1/1 (26/100) /content/drive/MyDrive/tdt17/videos/Video00008_ambient.avi: 96x640 7 cars, 1 person, Done. (0.017s)\n",
            "video 1/1 (27/100) /content/drive/MyDrive/tdt17/videos/Video00008_ambient.avi: 96x640 7 cars, 1 person, Done. (0.017s)\n",
            "video 1/1 (28/100) /content/drive/MyDrive/tdt17/videos/Video00008_ambient.avi: 96x640 6 cars, 1 person, Done. (0.017s)\n",
            "video 1/1 (29/100) /content/drive/MyDrive/tdt17/videos/Video00008_ambient.avi: 96x640 5 cars, 1 person, Done. (0.017s)\n",
            "video 1/1 (30/100) /content/drive/MyDrive/tdt17/videos/Video00008_ambient.avi: 96x640 6 cars, 1 person, Done. (0.017s)\n",
            "video 1/1 (31/100) /content/drive/MyDrive/tdt17/videos/Video00008_ambient.avi: 96x640 5 cars, Done. (0.017s)\n",
            "video 1/1 (32/100) /content/drive/MyDrive/tdt17/videos/Video00008_ambient.avi: 96x640 6 cars, Done. (0.017s)\n",
            "video 1/1 (33/100) /content/drive/MyDrive/tdt17/videos/Video00008_ambient.avi: 96x640 4 cars, Done. (0.017s)\n",
            "video 1/1 (34/100) /content/drive/MyDrive/tdt17/videos/Video00008_ambient.avi: 96x640 5 cars, 1 person, Done. (0.017s)\n",
            "video 1/1 (35/100) /content/drive/MyDrive/tdt17/videos/Video00008_ambient.avi: 96x640 5 cars, Done. (0.017s)\n",
            "video 1/1 (36/100) /content/drive/MyDrive/tdt17/videos/Video00008_ambient.avi: 96x640 6 cars, Done. (0.017s)\n",
            "video 1/1 (37/100) /content/drive/MyDrive/tdt17/videos/Video00008_ambient.avi: 96x640 5 cars, Done. (0.017s)\n",
            "video 1/1 (38/100) /content/drive/MyDrive/tdt17/videos/Video00008_ambient.avi: 96x640 9 cars, Done. (0.017s)\n",
            "video 1/1 (39/100) /content/drive/MyDrive/tdt17/videos/Video00008_ambient.avi: 96x640 7 cars, Done. (0.017s)\n",
            "video 1/1 (40/100) /content/drive/MyDrive/tdt17/videos/Video00008_ambient.avi: 96x640 7 cars, Done. (0.017s)\n",
            "video 1/1 (41/100) /content/drive/MyDrive/tdt17/videos/Video00008_ambient.avi: 96x640 6 cars, Done. (0.017s)\n",
            "video 1/1 (42/100) /content/drive/MyDrive/tdt17/videos/Video00008_ambient.avi: 96x640 4 cars, Done. (0.017s)\n",
            "video 1/1 (43/100) /content/drive/MyDrive/tdt17/videos/Video00008_ambient.avi: 96x640 5 cars, Done. (0.017s)\n",
            "video 1/1 (44/100) /content/drive/MyDrive/tdt17/videos/Video00008_ambient.avi: 96x640 4 cars, Done. (0.017s)\n",
            "video 1/1 (45/100) /content/drive/MyDrive/tdt17/videos/Video00008_ambient.avi: 96x640 6 cars, Done. (0.017s)\n",
            "video 1/1 (46/100) /content/drive/MyDrive/tdt17/videos/Video00008_ambient.avi: 96x640 7 cars, Done. (0.017s)\n",
            "video 1/1 (47/100) /content/drive/MyDrive/tdt17/videos/Video00008_ambient.avi: 96x640 5 cars, Done. (0.016s)\n",
            "video 1/1 (48/100) /content/drive/MyDrive/tdt17/videos/Video00008_ambient.avi: 96x640 7 cars, Done. (0.017s)\n",
            "video 1/1 (49/100) /content/drive/MyDrive/tdt17/videos/Video00008_ambient.avi: 96x640 7 cars, Done. (0.017s)\n",
            "video 1/1 (50/100) /content/drive/MyDrive/tdt17/videos/Video00008_ambient.avi: 96x640 10 cars, Done. (0.017s)\n",
            "video 1/1 (51/100) /content/drive/MyDrive/tdt17/videos/Video00008_ambient.avi: 96x640 7 cars, Done. (0.017s)\n",
            "video 1/1 (52/100) /content/drive/MyDrive/tdt17/videos/Video00008_ambient.avi: 96x640 9 cars, Done. (0.017s)\n",
            "video 1/1 (53/100) /content/drive/MyDrive/tdt17/videos/Video00008_ambient.avi: 96x640 6 cars, Done. (0.017s)\n",
            "video 1/1 (54/100) /content/drive/MyDrive/tdt17/videos/Video00008_ambient.avi: 96x640 7 cars, Done. (0.017s)\n",
            "video 1/1 (55/100) /content/drive/MyDrive/tdt17/videos/Video00008_ambient.avi: 96x640 5 cars, Done. (0.017s)\n",
            "video 1/1 (56/100) /content/drive/MyDrive/tdt17/videos/Video00008_ambient.avi: 96x640 5 cars, Done. (0.017s)\n",
            "video 1/1 (57/100) /content/drive/MyDrive/tdt17/videos/Video00008_ambient.avi: 96x640 7 cars, Done. (0.017s)\n",
            "video 1/1 (58/100) /content/drive/MyDrive/tdt17/videos/Video00008_ambient.avi: 96x640 4 cars, Done. (0.017s)\n",
            "video 1/1 (59/100) /content/drive/MyDrive/tdt17/videos/Video00008_ambient.avi: 96x640 5 cars, Done. (0.016s)\n",
            "video 1/1 (60/100) /content/drive/MyDrive/tdt17/videos/Video00008_ambient.avi: 96x640 9 cars, Done. (0.016s)\n",
            "video 1/1 (61/100) /content/drive/MyDrive/tdt17/videos/Video00008_ambient.avi: 96x640 5 cars, Done. (0.017s)\n",
            "video 1/1 (62/100) /content/drive/MyDrive/tdt17/videos/Video00008_ambient.avi: 96x640 6 cars, Done. (0.016s)\n",
            "video 1/1 (63/100) /content/drive/MyDrive/tdt17/videos/Video00008_ambient.avi: 96x640 5 cars, Done. (0.017s)\n",
            "video 1/1 (64/100) /content/drive/MyDrive/tdt17/videos/Video00008_ambient.avi: 96x640 9 cars, Done. (0.016s)\n",
            "video 1/1 (65/100) /content/drive/MyDrive/tdt17/videos/Video00008_ambient.avi: 96x640 6 cars, Done. (0.017s)\n",
            "video 1/1 (66/100) /content/drive/MyDrive/tdt17/videos/Video00008_ambient.avi: 96x640 8 cars, Done. (0.017s)\n",
            "video 1/1 (67/100) /content/drive/MyDrive/tdt17/videos/Video00008_ambient.avi: 96x640 5 cars, Done. (0.017s)\n",
            "video 1/1 (68/100) /content/drive/MyDrive/tdt17/videos/Video00008_ambient.avi: 96x640 6 cars, Done. (0.017s)\n",
            "video 1/1 (69/100) /content/drive/MyDrive/tdt17/videos/Video00008_ambient.avi: 96x640 4 cars, Done. (0.017s)\n",
            "video 1/1 (70/100) /content/drive/MyDrive/tdt17/videos/Video00008_ambient.avi: 96x640 5 cars, Done. (0.017s)\n",
            "video 1/1 (71/100) /content/drive/MyDrive/tdt17/videos/Video00008_ambient.avi: 96x640 4 cars, Done. (0.017s)\n",
            "video 1/1 (72/100) /content/drive/MyDrive/tdt17/videos/Video00008_ambient.avi: 96x640 5 cars, Done. (0.017s)\n",
            "video 1/1 (73/100) /content/drive/MyDrive/tdt17/videos/Video00008_ambient.avi: 96x640 5 cars, Done. (0.017s)\n",
            "video 1/1 (74/100) /content/drive/MyDrive/tdt17/videos/Video00008_ambient.avi: 96x640 4 cars, Done. (0.017s)\n",
            "video 1/1 (75/100) /content/drive/MyDrive/tdt17/videos/Video00008_ambient.avi: 96x640 4 cars, 1 person, Done. (0.017s)\n",
            "video 1/1 (76/100) /content/drive/MyDrive/tdt17/videos/Video00008_ambient.avi: 96x640 4 cars, Done. (0.017s)\n",
            "video 1/1 (77/100) /content/drive/MyDrive/tdt17/videos/Video00008_ambient.avi: 96x640 3 cars, Done. (0.017s)\n",
            "video 1/1 (78/100) /content/drive/MyDrive/tdt17/videos/Video00008_ambient.avi: 96x640 5 cars, Done. (0.017s)\n",
            "video 1/1 (79/100) /content/drive/MyDrive/tdt17/videos/Video00008_ambient.avi: 96x640 4 cars, Done. (0.017s)\n",
            "video 1/1 (80/100) /content/drive/MyDrive/tdt17/videos/Video00008_ambient.avi: 96x640 4 cars, Done. (0.017s)\n",
            "video 1/1 (81/100) /content/drive/MyDrive/tdt17/videos/Video00008_ambient.avi: 96x640 3 cars, Done. (0.017s)\n",
            "video 1/1 (82/100) /content/drive/MyDrive/tdt17/videos/Video00008_ambient.avi: 96x640 4 cars, 2 persons, Done. (0.017s)\n",
            "video 1/1 (83/100) /content/drive/MyDrive/tdt17/videos/Video00008_ambient.avi: 96x640 6 cars, Done. (0.017s)\n",
            "video 1/1 (84/100) /content/drive/MyDrive/tdt17/videos/Video00008_ambient.avi: 96x640 7 cars, Done. (0.017s)\n",
            "video 1/1 (85/100) /content/drive/MyDrive/tdt17/videos/Video00008_ambient.avi: 96x640 8 cars, Done. (0.017s)\n",
            "video 1/1 (86/100) /content/drive/MyDrive/tdt17/videos/Video00008_ambient.avi: 96x640 5 cars, Done. (0.017s)\n",
            "video 1/1 (87/100) /content/drive/MyDrive/tdt17/videos/Video00008_ambient.avi: 96x640 5 cars, Done. (0.017s)\n",
            "video 1/1 (88/100) /content/drive/MyDrive/tdt17/videos/Video00008_ambient.avi: 96x640 7 cars, 1 person, Done. (0.017s)\n",
            "video 1/1 (89/100) /content/drive/MyDrive/tdt17/videos/Video00008_ambient.avi: 96x640 7 cars, 1 person, Done. (0.017s)\n",
            "video 1/1 (90/100) /content/drive/MyDrive/tdt17/videos/Video00008_ambient.avi: 96x640 10 cars, 1 person, Done. (0.016s)\n",
            "video 1/1 (91/100) /content/drive/MyDrive/tdt17/videos/Video00008_ambient.avi: 96x640 6 cars, 1 person, Done. (0.017s)\n",
            "video 1/1 (92/100) /content/drive/MyDrive/tdt17/videos/Video00008_ambient.avi: 96x640 5 cars, 1 person, Done. (0.017s)\n",
            "video 1/1 (93/100) /content/drive/MyDrive/tdt17/videos/Video00008_ambient.avi: 96x640 4 cars, 1 person, Done. (0.017s)\n",
            "video 1/1 (94/100) /content/drive/MyDrive/tdt17/videos/Video00008_ambient.avi: 96x640 4 cars, 1 person, Done. (0.017s)\n",
            "video 1/1 (95/100) /content/drive/MyDrive/tdt17/videos/Video00008_ambient.avi: 96x640 6 cars, Done. (0.017s)\n",
            "video 1/1 (96/100) /content/drive/MyDrive/tdt17/videos/Video00008_ambient.avi: 96x640 4 cars, Done. (0.017s)\n",
            "video 1/1 (97/100) /content/drive/MyDrive/tdt17/videos/Video00008_ambient.avi: 96x640 9 cars, Done. (0.017s)\n",
            "video 1/1 (98/100) /content/drive/MyDrive/tdt17/videos/Video00008_ambient.avi: 96x640 6 cars, Done. (0.017s)\n",
            "video 1/1 (99/100) /content/drive/MyDrive/tdt17/videos/Video00008_ambient.avi: 96x640 6 cars, Done. (0.017s)\n",
            "video 1/1 (100/100) /content/drive/MyDrive/tdt17/videos/Video00008_ambient.avi: 96x640 4 cars, Done. (0.017s)\n",
            "Speed: 0.2ms pre-process, 16.9ms inference, 1.4ms NMS per image at shape (1, 3, 640, 640)\n",
            "Results saved to \u001b[1mruns/detect/exp8\u001b[0m\n"
          ]
        }
      ]
    },
    {
      "cell_type": "code",
      "metadata": {
        "id": "cZT1FJCpn2oT"
      },
      "source": [
        ""
      ],
      "execution_count": null,
      "outputs": []
    }
  ]
}