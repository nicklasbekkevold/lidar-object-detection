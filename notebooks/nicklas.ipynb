{
 "cells": [
  {
   "cell_type": "markdown",
   "metadata": {},
   "source": [
    "# Import and install requirements"
   ]
  },
  {
   "cell_type": "code",
   "execution_count": 7,
   "metadata": {},
   "outputs": [
    {
     "name": "stderr",
     "output_type": "stream",
     "text": [
      "YOLOv5 🚀 v6.0-86-g7473f0f torch 1.10.0+cu102 CPU\n"
     ]
    },
    {
     "name": "stdout",
     "output_type": "stream",
     "text": [
      "Setup complete ✅\n"
     ]
    }
   ],
   "source": [
    "!git clone https://github.com/ultralytics/yolov5  # clone\n",
    "%cd yolov5\n",
    "%pip install -qr requirements.txt  # install\n",
    "\n",
    "from yolov5 import utils\n",
    "display = utils.notebook_init()  # checks"
   ]
  },
  {
   "cell_type": "code",
   "execution_count": 20,
   "metadata": {},
   "outputs": [
    {
     "name": "stdout",
     "output_type": "stream",
     "text": [
      "Note: you may need to restart the kernel to use updated packages.\n"
     ]
    },
    {
     "data": {
      "text/plain": [
       "True"
      ]
     },
     "execution_count": 20,
     "metadata": {},
     "output_type": "execute_result"
    }
   ],
   "source": [
    "# Weights & Biases\n",
    "%pip install -q wandb\n",
    "import wandb\n",
    "wandb.login()"
   ]
  },
  {
   "cell_type": "markdown",
   "metadata": {},
   "source": [
    "# Training"
   ]
  },
  {
   "cell_type": "code",
   "execution_count": 23,
   "metadata": {},
   "outputs": [
    {
     "name": "stdout",
     "output_type": "stream",
     "text": [
      "\u001b[34m\u001b[1mwandb\u001b[0m: Currently logged in as: \u001b[33mnicklasbekkevold\u001b[0m (use `wandb login --relogin` to force relogin)\n",
      "\u001b[34m\u001b[1mtrain: \u001b[0mweights=yolov5s.pt, cfg=, data=../../data/lidar.yaml, hyp=data/hyps/hyp.scratch.yaml, epochs=3, batch_size=16, imgsz=1024, rect=False, resume=False, nosave=False, noval=False, noautoanchor=False, evolve=None, bucket=, cache=None, image_weights=False, device=, multi_scale=False, single_cls=False, adam=False, sync_bn=False, workers=8, project=runs/train, name=exp, exist_ok=False, quad=False, linear_lr=False, label_smoothing=0.0, patience=100, freeze=0, save_period=-1, local_rank=-1, entity=None, upload_dataset=False, bbox_interval=-1, artifact_alias=latest\n",
      "\u001b[34m\u001b[1mgithub: \u001b[0mup to date with https://github.com/ultralytics/yolov5 ✅\n",
      "YOLOv5 🚀 v6.0-87-g09d1703 torch 1.10.0+cu102 CPU\n",
      "\n",
      "\u001b[34m\u001b[1mhyperparameters: \u001b[0mlr0=0.01, lrf=0.1, momentum=0.937, weight_decay=0.0005, warmup_epochs=3.0, warmup_momentum=0.8, warmup_bias_lr=0.1, box=0.05, cls=0.5, cls_pw=1.0, obj=1.0, obj_pw=1.0, iou_t=0.2, anchor_t=4.0, fl_gamma=0.0, hsv_h=0.015, hsv_s=0.7, hsv_v=0.4, degrees=0.0, translate=0.1, scale=0.5, shear=0.0, perspective=0.0, flipud=0.0, fliplr=0.5, mosaic=1.0, mixup=0.0, copy_paste=0.0\n",
      "\u001b[34m\u001b[1mTensorBoard: \u001b[0mStart with 'tensorboard --logdir runs/train', view at http://localhost:6006/\n",
      "\u001b[34m\u001b[1mwandb\u001b[0m: Tracking run with wandb version 0.12.6\n",
      "\u001b[34m\u001b[1mwandb\u001b[0m: Syncing run \u001b[33mswift-eon-11\u001b[0m\n",
      "\u001b[34m\u001b[1mwandb\u001b[0m:  View project at \u001b[34m\u001b[4mhttps://wandb.ai/nicklasbekkevold/YOLOv5\u001b[0m\n",
      "\u001b[34m\u001b[1mwandb\u001b[0m:  View run at \u001b[34m\u001b[4mhttps://wandb.ai/nicklasbekkevold/YOLOv5/runs/2flhbe0x\u001b[0m\n",
      "\u001b[34m\u001b[1mwandb\u001b[0m: Run data is saved locally in /home/nicklas/repos/artificial-intelligence/TDT17-object-detection-project/notebooks/yolov5/wandb/run-20211113_143437-2flhbe0x\n",
      "\u001b[34m\u001b[1mwandb\u001b[0m: Run `wandb offline` to turn off syncing.\n",
      "\n",
      "\n",
      "\n",
      "\n",
      "\n",
      "\n",
      "\n",
      "\n",
      "\n",
      "\n",
      "\n",
      "\n",
      "\n",
      "\n",
      "\n",
      "\n",
      "\n",
      "\n",
      "\n",
      "\n",
      "\n",
      "\n",
      "\n",
      "\n",
      "\n",
      "\n",
      "\n",
      "\n",
      "\n",
      "\n",
      "\n",
      "\n",
      "\n",
      "\n",
      "\n",
      "\n",
      "\n",
      "\n",
      "\n",
      "\n",
      "\n",
      "\n",
      "\n",
      "\n",
      "\n",
      "\n",
      "\n"
     ]
    }
   ],
   "source": [
    "!python train.py --img 1024 --batch 16 --epochs 3 --data ../../data/lidar.yaml"
   ]
  },
  {
   "cell_type": "markdown",
   "metadata": {},
   "source": [
    "# Prediction"
   ]
  },
  {
   "cell_type": "code",
   "execution_count": 18,
   "metadata": {},
   "outputs": [
    {
     "name": "stdout",
     "output_type": "stream",
     "text": [
      "\u001b[34m\u001b[1mdetect: \u001b[0mweights=['yolov5s.pt'], source=../../videos/Video00001_range.avi, imgsz=[640, 640], conf_thres=0.25, iou_thres=0.45, max_det=1000, device=, view_img=False, save_txt=False, save_conf=False, save_crop=False, nosave=False, classes=None, agnostic_nms=False, augment=False, visualize=False, update=False, project=runs/detect, name=exp, exist_ok=False, line_thickness=3, hide_labels=False, hide_conf=False, half=False, dnn=False\n",
      "YOLOv5 🚀 v6.0-87-g09d1703 torch 1.10.0+cu102 CPU\n",
      "\n",
      "Fusing layers... \n",
      "Model Summary: 213 layers, 7225885 parameters, 0 gradients\n",
      "video 1/1 (1/101) /home/nicklas/repos/artificial-intelligence/TDT17-object-detection-project/videos/Video00001_range.avi: 96x640 1 person, Done. (0.037s)\n",
      "video 1/1 (2/101) /home/nicklas/repos/artificial-intelligence/TDT17-object-detection-project/videos/Video00001_range.avi: 96x640 Done. (0.048s)\n",
      "video 1/1 (3/101) /home/nicklas/repos/artificial-intelligence/TDT17-object-detection-project/videos/Video00001_range.avi: 96x640 Done. (0.084s)\n",
      "video 1/1 (4/101) /home/nicklas/repos/artificial-intelligence/TDT17-object-detection-project/videos/Video00001_range.avi: 96x640 Done. (0.054s)\n",
      "video 1/1 (5/101) /home/nicklas/repos/artificial-intelligence/TDT17-object-detection-project/videos/Video00001_range.avi: 96x640 Done. (0.131s)\n",
      "video 1/1 (6/101) /home/nicklas/repos/artificial-intelligence/TDT17-object-detection-project/videos/Video00001_range.avi: 96x640 Done. (0.098s)\n",
      "video 1/1 (7/101) /home/nicklas/repos/artificial-intelligence/TDT17-object-detection-project/videos/Video00001_range.avi: 96x640 Done. (0.118s)\n",
      "video 1/1 (8/101) /home/nicklas/repos/artificial-intelligence/TDT17-object-detection-project/videos/Video00001_range.avi: 96x640 1 person, 1 car, Done. (0.101s)\n",
      "video 1/1 (9/101) /home/nicklas/repos/artificial-intelligence/TDT17-object-detection-project/videos/Video00001_range.avi: 96x640 2 persons, Done. (0.121s)\n",
      "video 1/1 (10/101) /home/nicklas/repos/artificial-intelligence/TDT17-object-detection-project/videos/Video00001_range.avi: 96x640 Done. (0.216s)\n",
      "video 1/1 (11/101) /home/nicklas/repos/artificial-intelligence/TDT17-object-detection-project/videos/Video00001_range.avi: 96x640 1 person, 1 traffic light, Done. (0.066s)\n",
      "video 1/1 (12/101) /home/nicklas/repos/artificial-intelligence/TDT17-object-detection-project/videos/Video00001_range.avi: 96x640 Done. (0.118s)\n",
      "video 1/1 (13/101) /home/nicklas/repos/artificial-intelligence/TDT17-object-detection-project/videos/Video00001_range.avi: 96x640 1 person, Done. (0.119s)\n",
      "video 1/1 (14/101) /home/nicklas/repos/artificial-intelligence/TDT17-object-detection-project/videos/Video00001_range.avi: 96x640 Done. (0.065s)\n",
      "video 1/1 (15/101) /home/nicklas/repos/artificial-intelligence/TDT17-object-detection-project/videos/Video00001_range.avi: 96x640 1 person, Done. (0.076s)\n",
      "video 1/1 (16/101) /home/nicklas/repos/artificial-intelligence/TDT17-object-detection-project/videos/Video00001_range.avi: 96x640 Done. (0.082s)\n",
      "video 1/1 (17/101) /home/nicklas/repos/artificial-intelligence/TDT17-object-detection-project/videos/Video00001_range.avi: 96x640 2 persons, 1 skateboard, Done. (0.162s)\n",
      "video 1/1 (18/101) /home/nicklas/repos/artificial-intelligence/TDT17-object-detection-project/videos/Video00001_range.avi: 96x640 Done. (0.049s)\n",
      "video 1/1 (19/101) /home/nicklas/repos/artificial-intelligence/TDT17-object-detection-project/videos/Video00001_range.avi: 96x640 1 person, 1 traffic light, Done. (0.084s)\n",
      "video 1/1 (20/101) /home/nicklas/repos/artificial-intelligence/TDT17-object-detection-project/videos/Video00001_range.avi: 96x640 1 person, Done. (0.075s)\n",
      "video 1/1 (21/101) /home/nicklas/repos/artificial-intelligence/TDT17-object-detection-project/videos/Video00001_range.avi: 96x640 2 persons, Done. (0.062s)\n",
      "video 1/1 (22/101) /home/nicklas/repos/artificial-intelligence/TDT17-object-detection-project/videos/Video00001_range.avi: 96x640 1 person, Done. (0.050s)\n",
      "video 1/1 (23/101) /home/nicklas/repos/artificial-intelligence/TDT17-object-detection-project/videos/Video00001_range.avi: 96x640 Done. (0.208s)\n",
      "video 1/1 (24/101) /home/nicklas/repos/artificial-intelligence/TDT17-object-detection-project/videos/Video00001_range.avi: 96x640 Done. (0.080s)\n",
      "video 1/1 (25/101) /home/nicklas/repos/artificial-intelligence/TDT17-object-detection-project/videos/Video00001_range.avi: 96x640 Done. (0.059s)\n",
      "video 1/1 (26/101) /home/nicklas/repos/artificial-intelligence/TDT17-object-detection-project/videos/Video00001_range.avi: 96x640 Done. (0.063s)\n",
      "video 1/1 (27/101) /home/nicklas/repos/artificial-intelligence/TDT17-object-detection-project/videos/Video00001_range.avi: 96x640 Done. (0.053s)\n",
      "video 1/1 (28/101) /home/nicklas/repos/artificial-intelligence/TDT17-object-detection-project/videos/Video00001_range.avi: 96x640 Done. (0.044s)\n",
      "video 1/1 (29/101) /home/nicklas/repos/artificial-intelligence/TDT17-object-detection-project/videos/Video00001_range.avi: 96x640 1 person, Done. (0.054s)\n",
      "video 1/1 (30/101) /home/nicklas/repos/artificial-intelligence/TDT17-object-detection-project/videos/Video00001_range.avi: 96x640 1 person, Done. (0.051s)\n",
      "video 1/1 (31/101) /home/nicklas/repos/artificial-intelligence/TDT17-object-detection-project/videos/Video00001_range.avi: 96x640 1 person, Done. (0.039s)\n",
      "video 1/1 (32/101) /home/nicklas/repos/artificial-intelligence/TDT17-object-detection-project/videos/Video00001_range.avi: 96x640 1 person, Done. (0.060s)\n",
      "video 1/1 (33/101) /home/nicklas/repos/artificial-intelligence/TDT17-object-detection-project/videos/Video00001_range.avi: 96x640 1 person, Done. (0.050s)\n",
      "video 1/1 (34/101) /home/nicklas/repos/artificial-intelligence/TDT17-object-detection-project/videos/Video00001_range.avi: 96x640 1 person, 1 skateboard, Done. (0.050s)\n",
      "video 1/1 (35/101) /home/nicklas/repos/artificial-intelligence/TDT17-object-detection-project/videos/Video00001_range.avi: 96x640 Done. (0.081s)\n",
      "video 1/1 (36/101) /home/nicklas/repos/artificial-intelligence/TDT17-object-detection-project/videos/Video00001_range.avi: 96x640 Done. (0.103s)\n",
      "video 1/1 (37/101) /home/nicklas/repos/artificial-intelligence/TDT17-object-detection-project/videos/Video00001_range.avi: 96x640 Done. (0.139s)\n",
      "video 1/1 (38/101) /home/nicklas/repos/artificial-intelligence/TDT17-object-detection-project/videos/Video00001_range.avi: 96x640 1 person, Done. (0.107s)\n",
      "video 1/1 (39/101) /home/nicklas/repos/artificial-intelligence/TDT17-object-detection-project/videos/Video00001_range.avi: 96x640 Done. (0.087s)\n",
      "video 1/1 (40/101) /home/nicklas/repos/artificial-intelligence/TDT17-object-detection-project/videos/Video00001_range.avi: 96x640 Done. (0.093s)\n",
      "video 1/1 (41/101) /home/nicklas/repos/artificial-intelligence/TDT17-object-detection-project/videos/Video00001_range.avi: 96x640 Done. (0.084s)\n",
      "video 1/1 (42/101) /home/nicklas/repos/artificial-intelligence/TDT17-object-detection-project/videos/Video00001_range.avi: 96x640 1 traffic light, Done. (0.149s)\n",
      "video 1/1 (43/101) /home/nicklas/repos/artificial-intelligence/TDT17-object-detection-project/videos/Video00001_range.avi: 96x640 1 traffic light, Done. (0.074s)\n",
      "video 1/1 (44/101) /home/nicklas/repos/artificial-intelligence/TDT17-object-detection-project/videos/Video00001_range.avi: 96x640 1 traffic light, Done. (0.071s)\n",
      "video 1/1 (45/101) /home/nicklas/repos/artificial-intelligence/TDT17-object-detection-project/videos/Video00001_range.avi: 96x640 2 traffic lights, Done. (0.084s)\n",
      "video 1/1 (46/101) /home/nicklas/repos/artificial-intelligence/TDT17-object-detection-project/videos/Video00001_range.avi: 96x640 2 traffic lights, Done. (0.106s)\n",
      "video 1/1 (47/101) /home/nicklas/repos/artificial-intelligence/TDT17-object-detection-project/videos/Video00001_range.avi: 96x640 1 clock, Done. (0.085s)\n",
      "video 1/1 (48/101) /home/nicklas/repos/artificial-intelligence/TDT17-object-detection-project/videos/Video00001_range.avi: 96x640 Done. (0.104s)\n",
      "video 1/1 (49/101) /home/nicklas/repos/artificial-intelligence/TDT17-object-detection-project/videos/Video00001_range.avi: 96x640 Done. (0.152s)\n",
      "video 1/1 (50/101) /home/nicklas/repos/artificial-intelligence/TDT17-object-detection-project/videos/Video00001_range.avi: 96x640 Done. (0.232s)\n",
      "video 1/1 (51/101) /home/nicklas/repos/artificial-intelligence/TDT17-object-detection-project/videos/Video00001_range.avi: 96x640 Done. (0.157s)\n",
      "video 1/1 (52/101) /home/nicklas/repos/artificial-intelligence/TDT17-object-detection-project/videos/Video00001_range.avi: 96x640 1 person, Done. (0.125s)\n",
      "video 1/1 (53/101) /home/nicklas/repos/artificial-intelligence/TDT17-object-detection-project/videos/Video00001_range.avi: 96x640 1 motorcycle, Done. (0.307s)\n",
      "video 1/1 (54/101) /home/nicklas/repos/artificial-intelligence/TDT17-object-detection-project/videos/Video00001_range.avi: 96x640 1 person, Done. (0.104s)\n",
      "video 1/1 (55/101) /home/nicklas/repos/artificial-intelligence/TDT17-object-detection-project/videos/Video00001_range.avi: 96x640 1 traffic light, Done. (0.120s)\n",
      "video 1/1 (56/101) /home/nicklas/repos/artificial-intelligence/TDT17-object-detection-project/videos/Video00001_range.avi: 96x640 1 person, Done. (0.096s)\n",
      "video 1/1 (57/101) /home/nicklas/repos/artificial-intelligence/TDT17-object-detection-project/videos/Video00001_range.avi: 96x640 1 person, Done. (0.103s)\n",
      "video 1/1 (58/101) /home/nicklas/repos/artificial-intelligence/TDT17-object-detection-project/videos/Video00001_range.avi: 96x640 Done. (0.109s)\n",
      "video 1/1 (59/101) /home/nicklas/repos/artificial-intelligence/TDT17-object-detection-project/videos/Video00001_range.avi: 96x640 1 car, Done. (0.120s)\n",
      "video 1/1 (60/101) /home/nicklas/repos/artificial-intelligence/TDT17-object-detection-project/videos/Video00001_range.avi: 96x640 Done. (0.112s)\n",
      "video 1/1 (61/101) /home/nicklas/repos/artificial-intelligence/TDT17-object-detection-project/videos/Video00001_range.avi: 96x640 Done. (0.126s)\n",
      "video 1/1 (62/101) /home/nicklas/repos/artificial-intelligence/TDT17-object-detection-project/videos/Video00001_range.avi: 96x640 Done. (0.108s)\n",
      "video 1/1 (63/101) /home/nicklas/repos/artificial-intelligence/TDT17-object-detection-project/videos/Video00001_range.avi: 96x640 Done. (0.115s)\n",
      "video 1/1 (64/101) /home/nicklas/repos/artificial-intelligence/TDT17-object-detection-project/videos/Video00001_range.avi: 96x640 2 persons, Done. (0.094s)\n",
      "video 1/1 (65/101) /home/nicklas/repos/artificial-intelligence/TDT17-object-detection-project/videos/Video00001_range.avi: 96x640 1 person, Done. (0.114s)\n",
      "video 1/1 (66/101) /home/nicklas/repos/artificial-intelligence/TDT17-object-detection-project/videos/Video00001_range.avi: 96x640 1 person, Done. (0.065s)\n",
      "video 1/1 (67/101) /home/nicklas/repos/artificial-intelligence/TDT17-object-detection-project/videos/Video00001_range.avi: 96x640 Done. (0.100s)\n",
      "video 1/1 (68/101) /home/nicklas/repos/artificial-intelligence/TDT17-object-detection-project/videos/Video00001_range.avi: 96x640 1 car, Done. (0.090s)\n",
      "video 1/1 (69/101) /home/nicklas/repos/artificial-intelligence/TDT17-object-detection-project/videos/Video00001_range.avi: 96x640 Done. (0.052s)\n",
      "video 1/1 (70/101) /home/nicklas/repos/artificial-intelligence/TDT17-object-detection-project/videos/Video00001_range.avi: 96x640 2 persons, Done. (0.035s)\n",
      "video 1/1 (71/101) /home/nicklas/repos/artificial-intelligence/TDT17-object-detection-project/videos/Video00001_range.avi: 96x640 1 person, Done. (0.047s)\n",
      "video 1/1 (72/101) /home/nicklas/repos/artificial-intelligence/TDT17-object-detection-project/videos/Video00001_range.avi: 96x640 1 person, Done. (0.039s)\n",
      "video 1/1 (73/101) /home/nicklas/repos/artificial-intelligence/TDT17-object-detection-project/videos/Video00001_range.avi: 96x640 2 persons, Done. (0.048s)\n",
      "video 1/1 (74/101) /home/nicklas/repos/artificial-intelligence/TDT17-object-detection-project/videos/Video00001_range.avi: 96x640 Done. (0.043s)\n",
      "video 1/1 (75/101) /home/nicklas/repos/artificial-intelligence/TDT17-object-detection-project/videos/Video00001_range.avi: 96x640 Done. (0.050s)\n",
      "video 1/1 (76/101) /home/nicklas/repos/artificial-intelligence/TDT17-object-detection-project/videos/Video00001_range.avi: 96x640 Done. (0.051s)\n",
      "video 1/1 (77/101) /home/nicklas/repos/artificial-intelligence/TDT17-object-detection-project/videos/Video00001_range.avi: 96x640 1 person, Done. (0.044s)\n",
      "video 1/1 (78/101) /home/nicklas/repos/artificial-intelligence/TDT17-object-detection-project/videos/Video00001_range.avi: 96x640 1 person, Done. (0.051s)\n",
      "video 1/1 (79/101) /home/nicklas/repos/artificial-intelligence/TDT17-object-detection-project/videos/Video00001_range.avi: 96x640 Done. (0.042s)\n",
      "video 1/1 (80/101) /home/nicklas/repos/artificial-intelligence/TDT17-object-detection-project/videos/Video00001_range.avi: 96x640 2 persons, 1 car, Done. (0.045s)\n",
      "video 1/1 (81/101) /home/nicklas/repos/artificial-intelligence/TDT17-object-detection-project/videos/Video00001_range.avi: 96x640 1 person, Done. (0.050s)\n",
      "video 1/1 (82/101) /home/nicklas/repos/artificial-intelligence/TDT17-object-detection-project/videos/Video00001_range.avi: 96x640 2 persons, Done. (0.059s)\n",
      "video 1/1 (83/101) /home/nicklas/repos/artificial-intelligence/TDT17-object-detection-project/videos/Video00001_range.avi: 96x640 1 person, Done. (0.057s)\n",
      "video 1/1 (84/101) /home/nicklas/repos/artificial-intelligence/TDT17-object-detection-project/videos/Video00001_range.avi: 96x640 Done. (0.055s)\n",
      "video 1/1 (85/101) /home/nicklas/repos/artificial-intelligence/TDT17-object-detection-project/videos/Video00001_range.avi: 96x640 1 person, Done. (0.054s)\n",
      "video 1/1 (86/101) /home/nicklas/repos/artificial-intelligence/TDT17-object-detection-project/videos/Video00001_range.avi: 96x640 1 person, Done. (0.050s)\n",
      "video 1/1 (87/101) /home/nicklas/repos/artificial-intelligence/TDT17-object-detection-project/videos/Video00001_range.avi: 96x640 2 persons, Done. (0.069s)\n",
      "video 1/1 (88/101) /home/nicklas/repos/artificial-intelligence/TDT17-object-detection-project/videos/Video00001_range.avi: 96x640 3 persons, Done. (0.062s)\n",
      "video 1/1 (89/101) /home/nicklas/repos/artificial-intelligence/TDT17-object-detection-project/videos/Video00001_range.avi: 96x640 Done. (0.055s)\n",
      "video 1/1 (90/101) /home/nicklas/repos/artificial-intelligence/TDT17-object-detection-project/videos/Video00001_range.avi: 96x640 1 person, Done. (0.067s)\n",
      "video 1/1 (91/101) /home/nicklas/repos/artificial-intelligence/TDT17-object-detection-project/videos/Video00001_range.avi: 96x640 1 person, Done. (0.048s)\n",
      "video 1/1 (92/101) /home/nicklas/repos/artificial-intelligence/TDT17-object-detection-project/videos/Video00001_range.avi: 96x640 Done. (0.055s)\n",
      "video 1/1 (93/101) /home/nicklas/repos/artificial-intelligence/TDT17-object-detection-project/videos/Video00001_range.avi: 96x640 2 persons, Done. (0.052s)\n",
      "video 1/1 (94/101) /home/nicklas/repos/artificial-intelligence/TDT17-object-detection-project/videos/Video00001_range.avi: 96x640 2 persons, Done. (0.046s)\n",
      "video 1/1 (95/101) /home/nicklas/repos/artificial-intelligence/TDT17-object-detection-project/videos/Video00001_range.avi: 96x640 3 persons, Done. (0.050s)\n",
      "video 1/1 (96/101) /home/nicklas/repos/artificial-intelligence/TDT17-object-detection-project/videos/Video00001_range.avi: 96x640 3 persons, Done. (0.066s)\n",
      "video 1/1 (97/101) /home/nicklas/repos/artificial-intelligence/TDT17-object-detection-project/videos/Video00001_range.avi: 96x640 2 persons, Done. (0.049s)\n",
      "video 1/1 (98/101) /home/nicklas/repos/artificial-intelligence/TDT17-object-detection-project/videos/Video00001_range.avi: 96x640 1 person, Done. (0.054s)\n",
      "video 1/1 (99/101) /home/nicklas/repos/artificial-intelligence/TDT17-object-detection-project/videos/Video00001_range.avi: 96x640 3 persons, Done. (0.049s)\n",
      "video 1/1 (100/101) /home/nicklas/repos/artificial-intelligence/TDT17-object-detection-project/videos/Video00001_range.avi: 96x640 3 persons, Done. (0.046s)\n",
      "video 1/1 (101/101) /home/nicklas/repos/artificial-intelligence/TDT17-object-detection-project/videos/Video00001_range.avi: 96x640 4 persons, Done. (0.048s)\n",
      "Speed: 1.0ms pre-process, 83.5ms inference, 0.9ms NMS per image at shape (1, 3, 640, 640)\n",
      "Results saved to \u001b[1mruns/detect/exp2\u001b[0m\n"
     ]
    }
   ],
   "source": [
    "!python detect.py --weights  --source ../../videos/Video00001_range.avi"
   ]
  },
  {
   "cell_type": "code",
   "execution_count": null,
   "metadata": {},
   "outputs": [],
   "source": []
  }
 ],
 "metadata": {
  "interpreter": {
   "hash": "6da342c7990a5cca74f7417bc6f61904e59bb57a1ab69ff52cc17ca27f0d1310"
  },
  "kernelspec": {
   "display_name": "Python 3.8.10 64-bit ('venv': venv)",
   "language": "python",
   "name": "python3"
  },
  "language_info": {
   "codemirror_mode": {
    "name": "ipython",
    "version": 3
   },
   "file_extension": ".py",
   "mimetype": "text/x-python",
   "name": "python",
   "nbconvert_exporter": "python",
   "pygments_lexer": "ipython3",
   "version": "3.8.10"
  },
  "orig_nbformat": 4
 },
 "nbformat": 4,
 "nbformat_minor": 2
}
